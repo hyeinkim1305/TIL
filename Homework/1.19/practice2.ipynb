{
 "cells": [
  {
   "cell_type": "markdown",
   "metadata": {},
   "source": [
    "# Practice 2\n",
    "\n",
    "> 데이터 & 제어문"
   ]
  },
  {
   "cell_type": "markdown",
   "metadata": {},
   "source": [
    "## 더블더블 (SWEA #2019 변형)\n",
    "\n",
    "> 자연수 number를 입력 받아, 1부터 주어진 자연수 number까지 홀수는 2, 짝수는 3을 곱한 값(들)의 합을 출력하시오.\n",
    "\n",
    "---\n",
    "```\n",
    "[제약 사항] \n",
    "주어질 숫자는 30을 넘지 않는다.\n",
    "\n",
    "[입력 예시]\n",
    "5\n",
    "\n",
    "[출력 예시]\n",
    "36\n",
    "```"
   ]
  },
  {
   "cell_type": "code",
   "execution_count": 1,
   "metadata": {
    "scrolled": true
   },
   "outputs": [
    {
     "name": "stdout",
     "output_type": "stream",
     "text": [
      "5\n",
      "36\n"
     ]
    }
   ],
   "source": [
    "number = int(input())\n",
    "\n",
    "\n",
    "# 아래에 코드를 작성하시오.\n",
    "ans = []\n",
    "for i in range(1,number+1):\n",
    "    if i % 2 == 1:\n",
    "        ans.append(i*2)\n",
    "    else:\n",
    "        ans.append(i*3)\n",
    "print(sum(ans))\n",
    "\n",
    "# sol2  ## 리스트 굳이 안 만들어도 된다!\n",
    "result = 0\n",
    "for num in range(1,numbers+1):\n",
    "    if num % 2 ==0:\n",
    "        result += num * 3\n",
    "    else:\n",
    "        result += num * 2\n",
    "print(result)"
   ]
  },
  {
   "cell_type": "markdown",
   "metadata": {},
   "source": [
    "## 간단한 소수 판별 1\n",
    "\n",
    "> 입력으로 1개의 정수 number가 주어진다. 정수 number가 소수인지 아닌지 판별하여 출력하시오.\n",
    "\n",
    "---\n",
    "```\n",
    "[제약사항]\n",
    "number는 2이상 1,000이하의 정수이다. (2 ≤ number ≤ 1,000)\n",
    "\n",
    "[입력]\n",
    "입력으로 정수 number가 주어진다.\n",
    "\n",
    "[출력]\n",
    "정수 number가 소수이면 'Y', 소수가 아니면 'N'을 출력한다.\n",
    "```"
   ]
  },
  {
   "cell_type": "code",
   "execution_count": 2,
   "metadata": {},
   "outputs": [
    {
     "name": "stdout",
     "output_type": "stream",
     "text": [
      "23\n",
      "Y\n"
     ]
    }
   ],
   "source": [
    "number = int(input())\n",
    "\n",
    "# 아래에 코드를 작성하시오.\n",
    "num = 0\n",
    "for i in range(1,number+1):\n",
    "    if number % i == 0:\n",
    "        num += 1\n",
    "if num == 2:\n",
    "    print('Y')\n",
    "else:\n",
    "    print('N')\n",
    "    \n",
    "# sol2  # else 위치 주의\n",
    "for num in range(2, number):\n",
    "    if number % num == 0:\n",
    "        print('N')\n",
    "        break            # for문이 끝나는 것 ,. 반복 종료\n",
    "else:                    # for문의 세트인 것 / if랑 같은 라인에 넣으면 Y가 여러개 나온다. 약수들마다 나오게됌\n",
    "    print('Y')           # 소수는 그럼 for문 다 돌아보고 break가 안걸릴 때 Y가 나오는 것 "
   ]
  },
  {
   "cell_type": "markdown",
   "metadata": {},
   "source": [
    "## 간단한 소수 판별 2\n",
    "\n",
    "> 조건, 반복문을 응용하여 numbers 리스트의 요소들이 소수인지 아닌지 판단하는 코드를 작성하시오.\n",
    "\n",
    "---\n",
    "```\n",
    "[출력 예시]\n",
    "26은(는) 소수가 아닙니다. 2은(는) 26의 인수입니다.\n",
    "39은(는) 소수가 아닙니다. 3은(는) 39의 인수입니다.\n",
    "51은(는) 소수가 아닙니다. 3은(는) 51의 인수입니다.\n",
    "53은(는) 소수입니다.\n",
    "57은(는) 소수가 아닙니다. 3은(는) 57의 인수입니다.\n",
    "79은(는) 소수입니다.\n",
    "85은(는) 소수가 아닙니다. 5은(는) 85의 인수입니다.\n",
    "```"
   ]
  },
  {
   "cell_type": "code",
   "execution_count": 4,
   "metadata": {
    "scrolled": true
   },
   "outputs": [
    {
     "name": "stdout",
     "output_type": "stream",
     "text": [
      "26은(는) 소수가 아닙니다. 2은(는) 26의 인수입니다.\n",
      "39은(는) 소수가 아닙니다. 3은(는) 39의 인수입니다.\n",
      "51은(는) 소수가 아닙니다. 3은(는) 51의 인수입니다.\n",
      "53은(는) 소수입니다.\n",
      "57은(는) 소수가 아닙니다. 3은(는) 57의 인수입니다.\n",
      "79은(는) 소수입니다.\n",
      "85은(는) 소수가 아닙니다. 5은(는) 85의 인수입니다.\n"
     ]
    }
   ],
   "source": [
    "numbers = [26, 39, 51, 53, 57, 79, 85]\n",
    "\n",
    "\n",
    "for num in numbers:\n",
    "    count = 0        \n",
    "    ans = []\n",
    "    for i in range(2,num):\n",
    "        \n",
    "        if num % i == 0:    \n",
    "            count += 1\n",
    "            ans.append(i)\n",
    "        \n",
    "    if count == 0:\n",
    "        print(f'{num}은(는) 소수입니다.')\n",
    "    else:\n",
    "        print(f'{num}은(는) 소수가 아닙니다.',end = ' ')\n",
    "        print(f'{ans[0]}은(는) {num}의 인수입니다.')\n",
    "    \n",
    "# sol2  # break와 else 활용 좀 더 연습하기!\n",
    "for num in numbers:\n",
    "    for i in range(2,num):\n",
    "        if num % i == 0:\n",
    "            print(f'{num}은(는) 소수가 아닙니다. {i}은(는) {num}의 인수입니다.')\n",
    "            break\n",
    "    else:\n",
    "        print(f'{num}은(는) 소수입니다.')\n",
    "# for else는 break 가 있거나 할 때 for문을 다 돌았는데 내가 원하는 것이 없을 때 이것을 출력하겠다 이런 느낌"
   ]
  },
  {
   "cell_type": "code",
   "execution_count": null,
   "metadata": {},
   "outputs": [],
   "source": [
    "'--2단--'\n",
    "'2 x 1 = 2'\n",
    "'2 x 2 = 4'\n",
    "..\n",
    ".\n",
    ".\n",
    "'--3단--'\n",
    "'3 x 1 = 3'\n",
    "..\n",
    ".\n",
    "."
   ]
  },
  {
   "cell_type": "code",
   "execution_count": 11,
   "metadata": {},
   "outputs": [
    {
     "name": "stdout",
     "output_type": "stream",
     "text": [
      "--2단--\n",
      "2 x 1 = 2\n",
      "2 x 2 = 4\n",
      "2 x 3 = 6\n",
      "2 x 4 = 8\n",
      "2 x 5 = 10\n",
      "2 x 6 = 12\n",
      "2 x 7 = 14\n",
      "2 x 8 = 16\n",
      "2 x 9 = 18\n",
      "--3단--\n",
      "3 x 1 = 3\n",
      "3 x 2 = 6\n",
      "3 x 3 = 9\n",
      "3 x 4 = 12\n",
      "3 x 5 = 15\n",
      "3 x 6 = 18\n",
      "3 x 7 = 21\n",
      "3 x 8 = 24\n",
      "3 x 9 = 27\n",
      "--4단--\n",
      "4 x 1 = 4\n",
      "4 x 2 = 8\n",
      "4 x 3 = 12\n",
      "4 x 4 = 16\n",
      "4 x 5 = 20\n",
      "4 x 6 = 24\n",
      "4 x 7 = 28\n",
      "4 x 8 = 32\n",
      "4 x 9 = 36\n",
      "--5단--\n",
      "5 x 1 = 5\n",
      "5 x 2 = 10\n",
      "5 x 3 = 15\n",
      "5 x 4 = 20\n",
      "5 x 5 = 25\n",
      "5 x 6 = 30\n",
      "5 x 7 = 35\n",
      "5 x 8 = 40\n",
      "5 x 9 = 45\n",
      "--6단--\n",
      "6 x 1 = 6\n",
      "6 x 2 = 12\n",
      "6 x 3 = 18\n",
      "6 x 4 = 24\n",
      "6 x 5 = 30\n",
      "6 x 6 = 36\n",
      "6 x 7 = 42\n",
      "6 x 8 = 48\n",
      "6 x 9 = 54\n",
      "--7단--\n",
      "7 x 1 = 7\n",
      "7 x 2 = 14\n",
      "7 x 3 = 21\n",
      "7 x 4 = 28\n",
      "7 x 5 = 35\n",
      "7 x 6 = 42\n",
      "7 x 7 = 49\n",
      "7 x 8 = 56\n",
      "7 x 9 = 63\n",
      "--8단--\n",
      "8 x 1 = 8\n",
      "8 x 2 = 16\n",
      "8 x 3 = 24\n",
      "8 x 4 = 32\n",
      "8 x 5 = 40\n",
      "8 x 6 = 48\n",
      "8 x 7 = 56\n",
      "8 x 8 = 64\n",
      "8 x 9 = 72\n",
      "--9단--\n",
      "9 x 1 = 9\n",
      "9 x 2 = 18\n",
      "9 x 3 = 27\n",
      "9 x 4 = 36\n",
      "9 x 5 = 45\n",
      "9 x 6 = 54\n",
      "9 x 7 = 63\n",
      "9 x 8 = 72\n",
      "9 x 9 = 81\n"
     ]
    }
   ],
   "source": [
    "for i in range(2,10):\n",
    "    print(f'--{i}단--')\n",
    "    for j in range(1,10):\n",
    "        print(f'{i} x {j} = {i * j}')\n",
    "        \n",
    "# # 이중 반복문에서 break값 써보면 \n",
    "# for i in range(2,10):\n",
    "#     for j in range(1,10):\n",
    "#         print(f'{i} x {j} = {i * j}')\n",
    "#         # break가 있는 for문 분기꺼만 종료되네\n",
    "#         break      \n",
    "\n",
    "# # 다른쪽에 break써보면        \n",
    "# for i in range(2,10):\n",
    "#     print(f'--{i}단--')\n",
    "#     for j in range(1,10):\n",
    "#         print(f'{i} x {j} = {i * j}')\n",
    "# break   #\n"
   ]
  }
 ],
 "metadata": {
  "kernelspec": {
   "display_name": "Python 3",
   "language": "python",
   "name": "python3"
  },
  "language_info": {
   "codemirror_mode": {
    "name": "ipython",
    "version": 3
   },
   "file_extension": ".py",
   "mimetype": "text/x-python",
   "name": "python",
   "nbconvert_exporter": "python",
   "pygments_lexer": "ipython3",
   "version": "3.8.7"
  },
  "toc": {
   "base_numbering": 1,
   "nav_menu": {},
   "number_sections": true,
   "sideBar": true,
   "skip_h1_title": false,
   "title_cell": "Table of Contents",
   "title_sidebar": "Contents",
   "toc_cell": false,
   "toc_position": {},
   "toc_section_display": true,
   "toc_window_display": false
  },
  "widgets": {
   "application/vnd.jupyter.widget-state+json": {
    "state": {},
    "version_major": 2,
    "version_minor": 0
   }
  }
 },
 "nbformat": 4,
 "nbformat_minor": 4
}
