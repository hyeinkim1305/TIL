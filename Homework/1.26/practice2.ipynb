{
 "cells": [
  {
   "cell_type": "markdown",
   "metadata": {},
   "source": [
    "# Practice 2\n",
    "\n",
    "> 자료 구조 "
   ]
  },
  {
   "cell_type": "markdown",
   "metadata": {},
   "source": [
    "## 모든 위치\n",
    "\n",
    "> 주어진 문자열(text)에서 제시된 알파벳(alphabet)의 등장 위치를 리스트로 반환하시오.\n",
    "> 해당 알파벳이 등장하지 않으면, -1을 반환하시오.\n",
    "\n",
    "---\n",
    "\n",
    "예시)\n",
    "\n",
    "```python\n",
    "print(my_find('apple', 'p')) # [1, 2]\n",
    "print(my_find('a', 'p'))     # -1\n",
    "```\n"
   ]
  },
  {
   "cell_type": "code",
   "execution_count": 6,
   "metadata": {},
   "outputs": [],
   "source": [
    "def my_find(text, alphabet):\n",
    "    \n",
    "    num = []\n",
    "    \n",
    "    if alphabet in text:\n",
    "        \n",
    "        while text.count(alphabet) >= 1:\n",
    "            n = text.find(alphabet)\n",
    "            num.append(n)\n",
    "            text = (\" \" * (n+1)) + text[n+1:]\n",
    "            \n",
    "        return num\n",
    "            \n",
    "    else:\n",
    "        return -1\n",
    "    \n",
    "------------------------------------------------------------------\n",
    "\n",
    "def my_find(text, alphabet):\n",
    "    \n",
    "    result = []\n",
    "    \n",
    "    for idx, char in enumerate(text):\n",
    "        if char == alphabet:\n",
    "            result.append(idx)\n",
    "            \n",
    "    if result:     # []안에 뭔가 들어가있으면 True\n",
    "        return result\n",
    "    else:\n",
    "        return -1\n",
    "    \n",
    "    # return result if result else -1\n",
    "    "
   ]
  },
  {
   "cell_type": "code",
   "execution_count": 7,
   "metadata": {},
   "outputs": [
    {
     "name": "stdout",
     "output_type": "stream",
     "text": [
      "[1, 2]\n",
      "-1\n"
     ]
    }
   ],
   "source": [
    "# 해당 코드를 통해 올바른 결과가 나오는지 확인하시오.\n",
    "print(my_find('apple', 'p'))\n",
    "print(my_find('a', 'p'))"
   ]
  },
  {
   "cell_type": "markdown",
   "metadata": {},
   "source": [
    "## 출석 체크\n",
    "\n",
    "> 주어진 학생 n과 출석한 학생명부 students 문자열이 있다. 결석한 학생들로 구성된 문자열을 반환하시오.\n",
    ">\n",
    "> n이 7일 때, 1 2 3 4 5 6 7의 출석 번호가 부여되고,\n",
    ">\n",
    "> '1 3 5'는 출석한 학생 명부이다. \n",
    ">\n",
    "> 즉, 결석한 학생 명부 '2 4 6 7'을 return 해야 한다.\n",
    "\n",
    "---\n",
    "\n",
    "예시)\n",
    "\n",
    "```python\n",
    "print(check(7, '1 3 5')) # 2 4 6 7\n",
    "```\n"
   ]
  },
  {
   "cell_type": "code",
   "execution_count": 23,
   "metadata": {},
   "outputs": [],
   "source": [
    "def check(n, students):\n",
    "    \n",
    "    num = set(range(1, n+1))\n",
    "    student = set(map(int,students.split()))\n",
    "    \n",
    "    number = num - student\n",
    "    \n",
    "    s = ''\n",
    "    for i in number:\n",
    "        s += str(i) + \" \"\n",
    "    \n",
    "    return s[:-1]    # [:-1]로 출력하는 방법!!\n",
    "\n",
    "-------------------------------------------------------------------\n",
    "def check(n, students):\n",
    "    students = list(map(int,students.split()))\n",
    "    result = []\n",
    "    \n",
    "    for i in range(1,n+1):\n",
    "        if i not in students:\n",
    "            result.append(i)   # 혹은 append(str(i))\n",
    "            \n",
    "    return ' '.join(map(str,result))\n",
    "\n",
    "# 리스트 안에 글자 1, 3, 5는 붙여줄 수 있는데 숫자는 못 붙여준다. \n",
    "\n"
   ]
  },
  {
   "cell_type": "code",
   "execution_count": 24,
   "metadata": {
    "ExecuteTime": {
     "end_time": "2020-07-22T07:58:30.841852Z",
     "start_time": "2020-07-22T07:58:30.838924Z"
    },
    "scrolled": true
   },
   "outputs": [
    {
     "name": "stdout",
     "output_type": "stream",
     "text": [
      "2 4 6 7\n"
     ]
    }
   ],
   "source": [
    "# 해당 코드를 통해 올바른 결과가 나오는지 확인하시오.\n",
    "print(check(7, '1 3 5')) # 2 4 6 7"
   ]
  }
 ],
 "metadata": {
  "kernelspec": {
   "display_name": "Python 3",
   "language": "python",
   "name": "python3"
  },
  "language_info": {
   "codemirror_mode": {
    "name": "ipython",
    "version": 3
   },
   "file_extension": ".py",
   "mimetype": "text/x-python",
   "name": "python",
   "nbconvert_exporter": "python",
   "pygments_lexer": "ipython3",
   "version": "3.8.7"
  },
  "toc": {
   "base_numbering": 1,
   "nav_menu": {},
   "number_sections": true,
   "sideBar": true,
   "skip_h1_title": false,
   "title_cell": "Table of Contents",
   "title_sidebar": "Contents",
   "toc_cell": false,
   "toc_position": {},
   "toc_section_display": true,
   "toc_window_display": false
  }
 },
 "nbformat": 4,
 "nbformat_minor": 4
}
