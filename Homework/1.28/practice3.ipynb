{
 "cells": [
  {
   "cell_type": "markdown",
   "metadata": {},
   "source": [
    "# Practice 3\n",
    "\n",
    "> 함수 & 자료 구조"
   ]
  },
  {
   "cell_type": "markdown",
   "metadata": {},
   "source": [
    "## 종합소득세 계산하기\n",
    "\n",
    "> A라는 나라에서는 종합소득세는 과세표준 금액 구간에 따라 다른 세율이 적용된다.\n",
    "> \n",
    "> 즉, 1,300만원을 벌었을 경우 `1,200*0.06 + 100*0.15`를 계산한 결과가 납부해야 하는 세액이다. \n",
    "> \n",
    "> 납부해야하는 세금의 결과를 반환하는 함수 `tax()`를 작성하시오.\n",
    "\n",
    "<img width=\"628\" alt=\"Screen Shot 2019-07-18 at 5 48 05 PM\" src=\"https://user-images.githubusercontent.com/52446416/61443335-40d52b00-a984-11e9-8163-8080ce7ab6c6.png\">\n",
    "\n",
    "|과세표준액|세율|\n",
    "|-------|---|\n",
    "|1,200이하|6%|\n",
    "|1,200 ~ 4,600|15%|\n",
    "|4,600 ~ |35%|\n",
    "\n",
    "\n",
    "---\n",
    "\n",
    "예시)\n",
    "```python\n",
    "tax(1200) #=> 72.0\n",
    "tax(4600) #=> 582.0\n",
    "tax(5000) #=> 722.0\n",
    "```"
   ]
  },
  {
   "cell_type": "code",
   "execution_count": 9,
   "metadata": {},
   "outputs": [],
   "source": [
    "def tax(won):\n",
    "    if won <= 1200:\n",
    "        return 1200 * 6 / 100\n",
    "    \n",
    "    elif won > 1200 and won <= 4600:\n",
    "        won_n = won - 1200\n",
    "        return 72 + (won_n * 15 / 100) \n",
    "    \n",
    "    elif won > 4600:\n",
    "        won_n = won - 4600\n",
    "        return 582 + won_n * 35 / 100\n",
    "    \n"
   ]
  },
  {
   "cell_type": "code",
   "execution_count": 10,
   "metadata": {},
   "outputs": [
    {
     "name": "stdout",
     "output_type": "stream",
     "text": [
      "72.0\n",
      "582.0\n",
      "722.0\n"
     ]
    }
   ],
   "source": [
    "# 아래의 코드를 실행하여 출력된 결과를 확인하시오.\n",
    "print(tax(1200))\n",
    "print(tax(4600))\n",
    "print(tax(5000))"
   ]
  },
  {
   "cell_type": "markdown",
   "metadata": {},
   "source": [
    "## 카쉐어링 요금 계산하기\n",
    "\n",
    "> 카쉐어링 서비스는 요금을 다음과 같이 계산한다. \n",
    "> \n",
    "> 1. 대여는 10분 단위로 가능하다.\n",
    "> 2. 대여 요금 : 10분당 1,200원\n",
    ">\n",
    "> 3. 보험료 : 30분당 525원 (50분을 빌리면, 1시간으로 계산)\n",
    ">\n",
    "> 4. 주행 요금 : km당 170원 (주행 요금은 100km가 넘어가면, 넘어간 부분에 대하여 할인이 50% 적용)\n",
    ">\n",
    "> 예) 160km를 달렸으면, 170\\*100 + 85 \\*60\n",
    ">\n",
    "> 양의 정수인 대여시간(분)과 주행거리를 받아 계산 결과를 반환하는 함수 `fee()`를 작성하시오.\n",
    "\n",
    "참고 함수 [`math.ceil`](https://developer.mozilla.org/ko/docs/Web/JavaScript/Reference/Global_Objects/Math/ceil)\n",
    "\n",
    "---\n",
    "\n",
    "예시)\n",
    "\n",
    "```python\n",
    "fee(600, 50) #=> 91000\n",
    "fee(600, 110) #=> 100350\n",
    "```"
   ]
  },
  {
   "cell_type": "code",
   "execution_count": 62,
   "metadata": {},
   "outputs": [],
   "source": [
    "import math\n",
    "\n",
    "def fee(minute, distance):\n",
    "    \n",
    "    lend_fee = minute // 10 * 1200\n",
    "    \n",
    "    if math.ceil(minute % 30) > 0 and  math.ceil(minute % 30) <= 30:\n",
    "        re_fee = (minute // 30 + 1) * 525\n",
    "    else:\n",
    "        re_fee = minute // 30 * 525\n",
    "    \n",
    "    if distance > 100:\n",
    "        distance_d = distance - 100\n",
    "        drive_fee = 100 * 170 + distance_d * 85\n",
    "    else:\n",
    "        drive_fee = distance * 170 \n",
    "        \n",
    "    return lend_fee + re_fee + drive_fee"
   ]
  },
  {
   "cell_type": "code",
   "execution_count": 63,
   "metadata": {},
   "outputs": [
    {
     "name": "stdout",
     "output_type": "stream",
     "text": [
      "91000\n",
      "100350\n"
     ]
    }
   ],
   "source": [
    "# 아래의 코드를 실행하여 출력된 결과를 확인하시오.\n",
    "print(fee(600, 50))\n",
    "print(fee(600, 110))"
   ]
  },
  {
   "cell_type": "markdown",
   "metadata": {},
   "source": [
    "## 문자열 탐색\n",
    "\n",
    "> 문자열 요소로만 이루어진 리스트를 넣었을 때, 문자열 길이가 2 이상이고 주어진 문자열의 첫번째와 마지막 문자가 같은 문자열의 수를 카운트하는 함수 `start_end()`를 작성하시오.\n",
    "\n",
    "---\n",
    "예시)\n",
    "\n",
    "```python\n",
    "start_end(['level', 'asdwe', 's', 'abceda', 'gsdwrtfg']) #=> 3\n",
    "```"
   ]
  },
  {
   "cell_type": "code",
   "execution_count": 17,
   "metadata": {},
   "outputs": [],
   "source": [
    "def start_end(words):\n",
    "    w_count = 0\n",
    "    \n",
    "    for word in words:\n",
    "        if len(word) >= 2:\n",
    "            if word[0] == word[-1]:\n",
    "                w_count += 1\n",
    "    return w_count\n",
    "            "
   ]
  },
  {
   "cell_type": "code",
   "execution_count": 18,
   "metadata": {},
   "outputs": [
    {
     "name": "stdout",
     "output_type": "stream",
     "text": [
      "3\n"
     ]
    }
   ],
   "source": [
    "# 아래의 코드를 실행하여 출력된 결과를 확인하시오.\n",
    "print(start_end(['level', 'asdwe', 's', 'abceda', 'gsdwrtfg']))"
   ]
  },
  {
   "cell_type": "markdown",
   "metadata": {},
   "source": [
    "## Collatz 추측\n",
    "\n",
    "> 1937년 Collatz란 사람에 의해 제기된 이 추측은, 주어진 수가 1이 될때까지 다음 작업을 반복하면, 모든 수를 1로 만들 수 있다는 추측이다. 그 원리는 아래와 같다.\n",
    ">\n",
    "> 1. 입력된 수가 짝수라면 2로 나눈다. \n",
    "> 2. 입력된 수가 홀수라면 3을 곱하고 1을 더한다.\n",
    "> 3. 결과로 나온 수에 같은 작업을 1이 될 때까지 반복한다.\n",
    ">\n",
    ">  예를 들어, 입력된 수가 6이라면 6 → 3 → 10 → 5 → 16 → 8 → 4 → 2 → 1 이 되어 총 8번 만에 1이 된다.\n",
    ">\n",
    "> 위 작업을 몇 번이나 반복해야하는지 반환하는 함수 `collatz()`를 작성하시오 (단, 작업을 500번을 반복해도 1이 되지 않는다면 –1을 반환하시오.)\n",
    "\n",
    "---\n",
    "\n",
    "예시)\n",
    "\n",
    "```python\n",
    "collatz(6) #=> 8\n",
    "collatz(16) #=> 4\n",
    "collatz(27) #=> 111\n",
    "collatz(626331) #=> -1\n",
    "```"
   ]
  },
  {
   "cell_type": "code",
   "execution_count": 22,
   "metadata": {},
   "outputs": [],
   "source": [
    "def collatz(num):\n",
    "    count = 0\n",
    "\n",
    "    while num != 1:\n",
    "        \n",
    "        if count >= 500:\n",
    "            return -1\n",
    "            break\n",
    "            \n",
    "        else:\n",
    "            if num % 2 == 0:\n",
    "                num = num // 2\n",
    "                count += 1\n",
    "            else:\n",
    "                num = num * 3 + 1\n",
    "                count += 1\n",
    "            \n",
    "    return count\n",
    "            "
   ]
  },
  {
   "cell_type": "code",
   "execution_count": 23,
   "metadata": {},
   "outputs": [
    {
     "name": "stdout",
     "output_type": "stream",
     "text": [
      "8\n",
      "4\n",
      "111\n",
      "-1\n"
     ]
    }
   ],
   "source": [
    "# 아래의 코드를 실행하여 출력된 결과를 확인하시오.\n",
    "print(collatz(6))\n",
    "print(collatz(16))\n",
    "print(collatz(27))\n",
    "print(collatz(626331))"
   ]
  },
  {
   "cell_type": "markdown",
   "metadata": {},
   "source": [
    "## 딕셔너리 뒤집기\n",
    "\n",
    "> 딕셔너리는 기본적으로 key와 value로 이뤄져있다.\n",
    ">\n",
    "> 딕셔너리를 입력받아 value와 key를 뒤집은 결과를 반환하는 함수 `dict_invert()`를 작성하시오.\n",
    "\n",
    "---\n",
    "\n",
    "예시)\n",
    "\n",
    "```python\n",
    "dict_invert({1: 10, 2: 20, 3: 30}) #=> {10: [1], 20: [2], 30: [3]}\n",
    "dict_invert({1: 10, 2: 20, 3: 30, 4: 30}) #=> {10: [1], 20: [2], 30: [3, 4]}\n",
    "dict_invert({1: True, 2: True, 3: True}) #=> {True: [1, 2, 3]}\n",
    "```"
   ]
  },
  {
   "cell_type": "code",
   "execution_count": 31,
   "metadata": {},
   "outputs": [],
   "source": [
    "def dict_invert(my_dict):\n",
    "    my_my = {}\n",
    "    \n",
    "    for i in my_dict:\n",
    "        if my_dict.get(i) in my_my.keys():\n",
    "            my_my[my_dict.get(i)].append(i)\n",
    "            \n",
    "        else:\n",
    "            my_my[my_dict[i]] = [i]\n",
    "    return my_my\n",
    "\n",
    "------------------------------------------------------------------------------------\n",
    "\n",
    "def dict_invert(my_dict):\n",
    "    rev_dict = {}\n",
    "    for key, value in my_dict.items():\n",
    "        if value not in rev_dict:     # rev_dict의 키 값중에 value가 있니?\n",
    "            rev_dict[value] = [key]\n",
    "        else:\n",
    "            rev_dict[value].append(key)\n",
    "    return rev_dict"
   ]
  },
  {
   "cell_type": "code",
   "execution_count": 32,
   "metadata": {},
   "outputs": [
    {
     "name": "stdout",
     "output_type": "stream",
     "text": [
      "{10: [1], 20: [2], 30: [3]}\n",
      "{10: [1], 20: [2], 30: [3, 4]}\n",
      "{True: [1, 2, 3]}\n"
     ]
    }
   ],
   "source": [
    "# 해당 코드를 통해 올바른 결과가 나오는지 확인하시오.\n",
    "print(dict_invert({1: 10, 2: 20, 3: 30}))\n",
    "print(dict_invert({1: 10, 2: 20, 3: 30, 4: 30}))\n",
    "print(dict_invert({1: True, 2: True, 3: True}))"
   ]
  },
  {
   "cell_type": "markdown",
   "metadata": {},
   "source": [
    "## 두번째로 많은 수 구하기\n",
    "\n",
    "> 주어진 리스트의 요소 중에서 두번째로 많은 수를 출력하시오.\n",
    ">\n",
    "> 이때, 두번째로 많은 수는 반드시 1개만 존재한다고 가정한다.\n",
    "\n",
    "---\n",
    "\n",
    "예시)\n",
    "\n",
    "```python\n",
    "get_second_big_number([7, 17, 10, 5, 4, 3, 17, 5, 2, 5]) #=> 17\n",
    "```"
   ]
  },
  {
   "cell_type": "code",
   "execution_count": 48,
   "metadata": {},
   "outputs": [],
   "source": [
    "def get_second_big_number(numbers):\n",
    "    n_list = []\n",
    "    for n in numbers:\n",
    "        n_list.append((numbers.count(n),n))\n",
    "    n_list = list(set(n_list))\n",
    "    n_list.sort(key = lambda x: x[0],reverse = True)\n",
    "    \n",
    "    return n_list[1][1]\n",
    "--------------------------------------------------------------------------------------\n",
    "def get_second_big_number(numbers):\n",
    "    count_number = {}\n",
    "    for num in numbers:\n",
    "        if num not in conut_number:\n",
    "            count_number[num] = 1\n",
    "        else:\n",
    "            count_number[num] += 1\n",
    "    result = sorted(count_number.items(),key=lambda x: x[1])[-2][0]\n",
    "    return result\n",
    "    "
   ]
  },
  {
   "cell_type": "code",
   "execution_count": 49,
   "metadata": {},
   "outputs": [
    {
     "name": "stdout",
     "output_type": "stream",
     "text": [
      "17\n"
     ]
    }
   ],
   "source": [
    "# 해당 코드를 통해 올바른 결과가 나오는지 확인하시오.\n",
    "print(get_second_big_number([7, 17, 10, 5, 4, 3, 17, 5, 2, 5]))"
   ]
  }
 ],
 "metadata": {
  "kernelspec": {
   "display_name": "Python 3",
   "language": "python",
   "name": "python3"
  },
  "language_info": {
   "codemirror_mode": {
    "name": "ipython",
    "version": 3
   },
   "file_extension": ".py",
   "mimetype": "text/x-python",
   "name": "python",
   "nbconvert_exporter": "python",
   "pygments_lexer": "ipython3",
   "version": "3.8.7"
  },
  "toc": {
   "base_numbering": 1,
   "nav_menu": {},
   "number_sections": true,
   "sideBar": true,
   "skip_h1_title": false,
   "title_cell": "Table of Contents",
   "title_sidebar": "Contents",
   "toc_cell": false,
   "toc_position": {},
   "toc_section_display": true,
   "toc_window_display": false
  }
 },
 "nbformat": 4,
 "nbformat_minor": 4
}
