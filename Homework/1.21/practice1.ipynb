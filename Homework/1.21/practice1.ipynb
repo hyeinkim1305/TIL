{
 "cells": [
  {
   "cell_type": "markdown",
   "metadata": {},
   "source": [
    "# Practice 1\n",
    "\n",
    "> 함수"
   ]
  },
  {
   "cell_type": "markdown",
   "metadata": {},
   "source": [
    "## `abs()` 직접 구현하기\n",
    "\n",
    "> 절댓값은 숫자형 자료(int, float)가 들어오면 절댓값을 반환하고, 복소수형 자료(complex)가 들어오면 해당하는 자료의 크기를 반환합니다. \n",
    "> \n",
    "> 파이썬 내장 함수 `abs()`를 직접 구현한 `my_abs()`를 작성하시오.\n",
    "\n",
    "---\n",
    "\n",
    "**공식문서**\n",
    "<center>\n",
    "    <img src=\"https://user-images.githubusercontent.com/52446416/61273106-b6ee5c00-a7e3-11e9-8ec2-a086b0bc584f.png\", alt=\"\">\n",
    "</center>\n",
    "\n",
    "**복소수 크기 구하는법**\n",
    "<center>\n",
    "    <img src=\"https://user-images.githubusercontent.com/52446416/61273105-b655c580-a7e3-11e9-9859-0a9ffdecdf7d.png\", alt=\"\">\n",
    "</center>\n",
    "\n",
    "예시)\n",
    "\n",
    "```python\n",
    "my_abs(3+4j) #=> 5.0\n",
    "my_abs(-0.0) #=> 0.0\n",
    "my_abs(-5) #=> 5\n",
    "```"
   ]
  },
  {
   "cell_type": "code",
   "execution_count": 12,
   "metadata": {},
   "outputs": [],
   "source": [
    "# 아래에 코드를 작성하시오.\n",
    "# 복소수의 실수부, 허수부 가져오는거 알아두기\n",
    "\n",
    "def my_abs(x):\n",
    "    if (type(x) == int or type(x) == float):\n",
    "        if x > 0:\n",
    "            return x\n",
    "        elif x < 0:\n",
    "            return -x\n",
    "        elif x == -0.0:\n",
    "            return -x\n",
    "    elif (type(x) == complex):\n",
    "        result = ((x.real)**2 + (x.imag)**2)**0.5\n",
    "        return result\n",
    "    \n",
    "# sol2\n",
    "def my_abs(x):\n",
    "    if (type(x) == complex):\n",
    "        return ((x.real)**2 + (x.imag)**2)**0.5\n",
    "    else:\n",
    "        # else에서 이렇게 해도 된다\n",
    "        if x < 0:\n",
    "            return x * -1\n",
    "        elif x == 0:\n",
    "            # 제곱하는거 생각 못 했음!\n",
    "            return x ** 2      \n",
    "        else:\n",
    "            return x\n",
    "\n",
    "# sol3\n",
    "def my_abs(x):\n",
    "    if (type(x) == complex):\n",
    "        return ((x.real)**2 + (x.imag)**2)**0.5\n",
    "    else:\n",
    "        return (x ** 2) ** 0.5\n",
    "    \n",
    "# sol4\n",
    "def my_abs(x):\n",
    "    if type(x) == complex:\n",
    "        return ((x.real ** 2) + (x.imag ** 2)) ** 0.5\n",
    "    \n",
    "    elif type(x) == int:\n",
    "        return int((x ** 2)** 0.5)\n",
    "        \n",
    "    else:\n",
    "        return (x ** 2)** 0.5 "
   ]
  },
  {
   "cell_type": "code",
   "execution_count": 13,
   "metadata": {},
   "outputs": [
    {
     "name": "stdout",
     "output_type": "stream",
     "text": [
      "5.0\n",
      "0.0\n",
      "5\n",
      "5.0 0.0 5\n"
     ]
    }
   ],
   "source": [
    "# 아래의 코드를 실행하여 출력된 결과를 확인하시오.\n",
    "\n",
    "print(my_abs(3+4j))\n",
    "print(my_abs(-0.0))\n",
    "print(my_abs(-5))\n",
    "print(abs(3+4j), abs(-0.0), abs(-5))"
   ]
  },
  {
   "cell_type": "markdown",
   "metadata": {},
   "source": [
    "## `all()` 직접 구현하기\n",
    "\n",
    "> `all()`은 인자로 받는 iterable(range, list)의 모든 요소가 참이거나 비어있으면 True를 반환합니다. \n",
    ">\n",
    "> 파이썬 내장 함수 `all()`을 직접 구현한 `my_all()`을 작성하시오.\n",
    "\n",
    "\n",
    "예시)\n",
    "\n",
    "```python\n",
    "my_all([]) #=> True\n",
    "my_all([1, 2, 5, '6']) #=> True\n",
    "my_all([[], 2, 5, '6']) #=> False\n",
    "```"
   ]
  },
  {
   "cell_type": "code",
   "execution_count": 1,
   "metadata": {},
   "outputs": [],
   "source": [
    "def my_all(elements):\n",
    "    if len(elements) == 0:\n",
    "        return True\n",
    "    \n",
    "    for element in elements:\n",
    "        if bool(element) == False:\n",
    "            return False\n",
    "            break\n",
    "        return True\n",
    "\n",
    "# sol2\n",
    "def my_all(elements):     # []는 리스트 안에 아무것도 없으니까 애초에 for문 돌지 않음\n",
    "    result = True         # 처음부터 result 설정\n",
    "    for e in elements:\n",
    "        if bool(e) == False:\n",
    "            result = False\n",
    "            break\n",
    "    return result\n",
    "\n",
    "# sol3\n",
    "def my_all(elements):\n",
    "    result = True\n",
    "    for element in elements:\n",
    "        # element가 False이면 if not element가 True가 되니까 실행\n",
    "        if not element:\n",
    "            result = False\n",
    "            break\n",
    "    return result\n",
    "\n",
    "# sol4\n",
    "def my_all(elements):\n",
    "    for element in elements:\n",
    "        if not element:\n",
    "            return False\n",
    "    return True\n",
    "#[]가 True가 되는 이유는 element가 없으니까 if문을 갈 일이 없고 결국 True가 리턴\n"
   ]
  },
  {
   "cell_type": "code",
   "execution_count": 2,
   "metadata": {},
   "outputs": [
    {
     "name": "stdout",
     "output_type": "stream",
     "text": [
      "True\n",
      "True\n",
      "True\n",
      "True True False\n"
     ]
    }
   ],
   "source": [
    "# 아래의 코드를 실행하여 출력된 결과를 확인하시오.\n",
    "\n",
    "print(my_all([]))\n",
    "print(my_all([1, 2, 5, '6']))\n",
    "print(my_all([[], 2, 5, '6']))\n",
    "print(all([]), all([1, 2, 5, '6']), all([[], 2, 5, '6']))"
   ]
  },
  {
   "cell_type": "markdown",
   "metadata": {},
   "source": [
    "## `any()` 직접 구현하기\n",
    "\n",
    "> `any()`는 인자로 받는 iterable(range, list)의 요소 중 하나라도 참이면 True를 반환하고, 비어있으면 False를 반환합니다. \n",
    "> \n",
    "> 파이썬 내장 함수 `any()`을 직접 구현한 `my_any()` 함수를 작성하시오.\n",
    "\n",
    "예시)\n",
    "\n",
    "```python\n",
    "my_any([1, 2, 5, '6']) #=> True\n",
    "my_any([[], 2, 5, '6']) #=> True\n",
    "my_any([0]) #=> False\n",
    "```\n",
    "t"
   ]
  },
  {
   "cell_type": "code",
   "execution_count": 45,
   "metadata": {},
   "outputs": [],
   "source": [
    "# 아래에 코드를 작성하시오.\n",
    "\n",
    "def my_any(elements):\n",
    "    for element in elements:\n",
    "        if bool(element) == True:\n",
    "            return True\n",
    "            break\n",
    "        elif bool(element) == False:\n",
    "            if len(elements) == 1:\n",
    "                return False\n",
    "            else:\n",
    "                return True\n",
    "            \n",
    "# sol2\n",
    "def my_any(elements):\n",
    "    for element in elements:\n",
    "        if element:\n",
    "            return True          # return이 이렇게 두개여도 가능\n",
    "    return False\n",
    "        \n",
    "# sol3\n",
    "def my_any(elements):\n",
    "    result = False\n",
    "    for el in elements:\n",
    "        if bool(el):\n",
    "            result = True\n",
    "    return result"
   ]
  },
  {
   "cell_type": "code",
   "execution_count": 46,
   "metadata": {},
   "outputs": [
    {
     "name": "stdout",
     "output_type": "stream",
     "text": [
      "True\n",
      "True\n",
      "False\n",
      "True True False\n"
     ]
    }
   ],
   "source": [
    "print(my_any([1, 2, 5, '6']))\n",
    "print(my_any([[], 2, 5, '6']))  # []일때는 False였다가 나머지 element들 들어가면서 True됨\n",
    "print(my_any([0]))\n",
    "print(any([1, 2, 5, '6']), any([[], 2, 5, '6']), any([0]))"
   ]
  }
 ],
 "metadata": {
  "kernelspec": {
   "display_name": "Python 3",
   "language": "python",
   "name": "python3"
  },
  "language_info": {
   "codemirror_mode": {
    "name": "ipython",
    "version": 3
   },
   "file_extension": ".py",
   "mimetype": "text/x-python",
   "name": "python",
   "nbconvert_exporter": "python",
   "pygments_lexer": "ipython3",
   "version": "3.8.7"
  },
  "toc": {
   "base_numbering": 1,
   "nav_menu": {},
   "number_sections": true,
   "sideBar": true,
   "skip_h1_title": false,
   "title_cell": "Table of Contents",
   "title_sidebar": "Contents",
   "toc_cell": false,
   "toc_position": {},
   "toc_section_display": true,
   "toc_window_display": false
  }
 },
 "nbformat": 4,
 "nbformat_minor": 4
}
