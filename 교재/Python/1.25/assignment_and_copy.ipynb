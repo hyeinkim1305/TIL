{
 "cells": [
  {
   "cell_type": "markdown",
   "metadata": {},
   "source": [
    "# `=` 저장에 대한 이해\n",
    "\n",
    "* 사실 박스안에 값을 저장한다라고 했지만, 엄밀하게 말해서는 해당하는 객체의 주소가 담기게 되는 것."
   ]
  },
  {
   "cell_type": "markdown",
   "metadata": {},
   "source": [
    "## immutable의 대표인 숫자!"
   ]
  },
  {
   "cell_type": "code",
   "execution_count": 1,
   "metadata": {},
   "outputs": [],
   "source": [
    "a = 210125"
   ]
  },
  {
   "cell_type": "code",
   "execution_count": 2,
   "metadata": {},
   "outputs": [],
   "source": [
    "b = a"
   ]
  },
  {
   "cell_type": "code",
   "execution_count": 3,
   "metadata": {
    "scrolled": false
   },
   "outputs": [
    {
     "name": "stdout",
     "output_type": "stream",
     "text": [
      "210125 210125\n",
      "1348629690928 1348629690928\n"
     ]
    }
   ],
   "source": [
    "print(a, b)\n",
    "print(id(a), id(b)) # id가 동일하다."
   ]
  },
  {
   "cell_type": "markdown",
   "metadata": {},
   "source": [
    "* 기존의 숫자 객체를 바꿀 수 있느냐... 없다.. 그래서 할 수 없다."
   ]
  },
  {
   "cell_type": "code",
   "execution_count": 4,
   "metadata": {},
   "outputs": [
    {
     "ename": "TypeError",
     "evalue": "'int' object does not support item assignment",
     "output_type": "error",
     "traceback": [
      "\u001b[1;31m---------------------------------------------------------------------------\u001b[0m",
      "\u001b[1;31mTypeError\u001b[0m                                 Traceback (most recent call last)",
      "\u001b[1;32m<ipython-input-4-b6d7a4db9a51>\u001b[0m in \u001b[0;36m<module>\u001b[1;34m\u001b[0m\n\u001b[1;32m----> 1\u001b[1;33m \u001b[0ma\u001b[0m\u001b[1;33m[\u001b[0m\u001b[1;36m0\u001b[0m\u001b[1;33m]\u001b[0m \u001b[1;33m=\u001b[0m \u001b[1;36m100\u001b[0m\u001b[1;33m\u001b[0m\u001b[1;33m\u001b[0m\u001b[0m\n\u001b[0m",
      "\u001b[1;31mTypeError\u001b[0m: 'int' object does not support item assignment"
     ]
    }
   ],
   "source": [
    "a[0] = 100"
   ]
  },
  {
   "cell_type": "markdown",
   "metadata": {},
   "source": [
    "* 아래의 코드는 아예 다른 객체를 `재할당`한 것임."
   ]
  },
  {
   "cell_type": "code",
   "execution_count": 5,
   "metadata": {},
   "outputs": [],
   "source": [
    "# 실제 해당하는 주소에 있는 210125를 바꿀 수 있는 방법은 전혀 없음.\n",
    "# 그러므로, 이 것은 새로운 숫자의 새로운 주소를 b에 할당한 것!\n",
    "b = 1004  "
   ]
  },
  {
   "cell_type": "code",
   "execution_count": 6,
   "metadata": {},
   "outputs": [
    {
     "name": "stdout",
     "output_type": "stream",
     "text": [
      "210125 1004\n",
      "1348629690928 1348629690992\n"
     ]
    }
   ],
   "source": [
    "print(a, b)\n",
    "print(id(a), id(b)) # 아예 다른 것으로 할당되었으니 주소도 다름"
   ]
  },
  {
   "cell_type": "markdown",
   "metadata": {},
   "source": [
    "## mutable의 대표인 리스트!"
   ]
  },
  {
   "cell_type": "code",
   "execution_count": 7,
   "metadata": {},
   "outputs": [],
   "source": [
    "a = [1, 2, 3]"
   ]
  },
  {
   "cell_type": "code",
   "execution_count": 8,
   "metadata": {},
   "outputs": [],
   "source": [
    "b = a"
   ]
  },
  {
   "cell_type": "code",
   "execution_count": 9,
   "metadata": {
    "scrolled": true
   },
   "outputs": [
    {
     "name": "stdout",
     "output_type": "stream",
     "text": [
      "[1, 2, 3] [1, 2, 3]\n",
      "1348629954240 1348629954240\n"
     ]
    }
   ],
   "source": [
    "print(a, b)\n",
    "print(id(a), id(b)) # id가 동일하다."
   ]
  },
  {
   "cell_type": "markdown",
   "metadata": {},
   "source": [
    "* 여기서 기존의 리스트를 변경할 수 있다. mutable하니까!"
   ]
  },
  {
   "cell_type": "code",
   "execution_count": 10,
   "metadata": {
    "scrolled": false
   },
   "outputs": [
    {
     "name": "stdout",
     "output_type": "stream",
     "text": [
      "['A', 2, 3] ['A', 2, 3]\n",
      "1348629954240 1348629954240\n"
     ]
    }
   ],
   "source": [
    "a[0] = 'A'\n",
    "print(a, b)\n",
    "print(id(a), id(b)) # id가 동일하다."
   ]
  },
  {
   "cell_type": "markdown",
   "metadata": {},
   "source": [
    "* 리스트도 당연히 재할당하면 id가 달라짐"
   ]
  },
  {
   "cell_type": "code",
   "execution_count": 11,
   "metadata": {},
   "outputs": [
    {
     "name": "stdout",
     "output_type": "stream",
     "text": [
      "['A', 2, 3] [3, 2, 1]\n",
      "1348629954240 1348630729600\n"
     ]
    }
   ],
   "source": [
    "b = [3, 2, 1]  # 새로운 리스트를 할당함.\n",
    "print(a, b)\n",
    "print(id(a), id(b)) # 당연히 id가 다름"
   ]
  },
  {
   "cell_type": "markdown",
   "metadata": {},
   "source": [
    "## 정리\n",
    "\n",
    "* 두 `b = a`의 코드에서, immutable / mutable 모두 주소를 저장을 했지만,\n",
    "* mutable 한 경우에는 변경이 가능하므로, 해당 객체(숫자 혹은 리스트)를 일부 바꿔서(인덱스 0의 값 변경) a와 b 모두 변경되는 것 처럼 보임.\n",
    "* immutable 한 경우에는 변경이 불가능하므로, 해당 객체(숫자 혹은 리스트)를 **바꿀 방법이 없는 것**\n",
    "* **두 상황 모두 재할당하면 주소가 바뀌는 것은 맞음.**"
   ]
  },
  {
   "cell_type": "markdown",
   "metadata": {},
   "source": [
    "# shallow copy vs deep copy\n",
    "\n",
    "* 지금까지 `b = a`는 단순 복사!\n",
    "\n",
    "* shallo copy와 deep copy의 차이점은 지금 단일의 리스트만 복사할 것이냐, 그 리스트의 내부의 모든 것을 복사할 것인가의 차이!"
   ]
  },
  {
   "cell_type": "code",
   "execution_count": 12,
   "metadata": {},
   "outputs": [
    {
     "name": "stdout",
     "output_type": "stream",
     "text": [
      "[[1, 2, 3], 2, 3] [[1, 2, 3], 2, 3]\n",
      "[[100, 2, 3], 2, 3] [[100, 2, 3], 2, 3]\n"
     ]
    }
   ],
   "source": [
    "# shallow copy\n",
    "# 리스트 내부의 리스트는 주소로 여전히 존재\n",
    "a = [[1, 2, 3], 2, 3]\n",
    "b = list(a)\n",
    "print(a, b)\n",
    "b[0][0] = 100\n",
    "print(a, b)"
   ]
  },
  {
   "cell_type": "code",
   "execution_count": 13,
   "metadata": {},
   "outputs": [
    {
     "name": "stdout",
     "output_type": "stream",
     "text": [
      "[[1, 2, 3], 2, 3] [[1, 2, 3], 2, 3]\n",
      "[[1, 2, 3], 2, 3] [[100, 2, 3], 2, 3]\n"
     ]
    }
   ],
   "source": [
    "# deep copy\n",
    "# 내부의 모든 것을 값으로 복사\n",
    "import copy\n",
    "a = [[1, 2, 3], 2, 3]\n",
    "b = copy.deepcopy(a)\n",
    "print(a, b)\n",
    "b[0][0] = 100\n",
    "print(a, b)"
   ]
  }
 ],
 "metadata": {
  "kernelspec": {
   "display_name": "Python 3",
   "language": "python",
   "name": "python3"
  },
  "language_info": {
   "codemirror_mode": {
    "name": "ipython",
    "version": 3
   },
   "file_extension": ".py",
   "mimetype": "text/x-python",
   "name": "python",
   "nbconvert_exporter": "python",
   "pygments_lexer": "ipython3",
   "version": "3.8.7"
  },
  "toc": {
   "base_numbering": 1,
   "nav_menu": {},
   "number_sections": true,
   "sideBar": true,
   "skip_h1_title": false,
   "title_cell": "Table of Contents",
   "title_sidebar": "Contents",
   "toc_cell": false,
   "toc_position": {},
   "toc_section_display": true,
   "toc_window_display": false
  }
 },
 "nbformat": 4,
 "nbformat_minor": 4
}
