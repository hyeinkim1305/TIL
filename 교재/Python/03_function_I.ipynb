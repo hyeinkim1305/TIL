{
 "cells": [
  {
   "cell_type": "markdown",
   "metadata": {},
   "source": [
    "<p style=\"font-size: 33px; font-weight: 700; margin-bottom: 3rem\">함수(function) I</p>\n",
    "\n",
    "반복적인 것을 재사용이 가능하게 만든 것이 함수이다.\n",
    "\n",
    "함수(function) I\n",
    "\n",
    "- 함수(function)?\n",
    "- 함수의 Output\n",
    "- 함수의 Input"
   ]
  },
  {
   "cell_type": "markdown",
   "metadata": {},
   "source": [
    "<center>\n",
    "    <img src=\"https://user-images.githubusercontent.com/18046097/61181746-2a1d9400-a665-11e9-804e-e92940d4fc82.png\", alt=\"func.png\">\n",
    "</center>"
   ]
  },
  {
   "cell_type": "markdown",
   "metadata": {},
   "source": [
    "## 들어가기전에\n",
    "\n",
    "다음의 코드를 봅시다. 무엇을 하는 코드일까요?  표준편차!"
   ]
  },
  {
   "cell_type": "code",
   "execution_count": null,
   "metadata": {},
   "outputs": [],
   "source": [
    "values = [100, 75, 85, 90, 65, 95, 90, 60, 85, 50, 90, 80]\n",
    "\n",
    "total = 0\n",
    "cnt = 0\n",
    "# 값을 다 더하고, 갯수를 센다.\n",
    "for value in values:\n",
    "    total += value\n",
    "    cnt += 1\n",
    "\n",
    "mean = total / cnt\n",
    "\n",
    "total_var = 0\n",
    "\n",
    "for value in values:\n",
    "    total_var += (value - mean) ** 2\n",
    "\n",
    "sum_var = total_var / cnt\n",
    "\n",
    "target = sum_var\n",
    "  \n",
    "count = 0 \n",
    "\n",
    "while True : \n",
    "    count += 1 \n",
    "    root = 0.5 * (target + (sum_var / target))  \n",
    "    if (abs(root - target) < 0.0000000000000001) : \n",
    "        break \n",
    "    target = root\n",
    "\n",
    "std_dev = target\n",
    "print(std_dev)"
   ]
  },
  {
   "cell_type": "markdown",
   "metadata": {},
   "source": [
    "> 이해하기 쉬운가요? 그리고 만약 다른 곳에서 동일한 작업을 다시해야할 경우 어떻게 해야 할까요?"
   ]
  },
  {
   "cell_type": "code",
   "execution_count": null,
   "metadata": {},
   "outputs": [],
   "source": [
    "import math\n",
    "values = [100, 75, 85, 90, 65, 95, 90, 60, 85, 50, 90, 80]"
   ]
  },
  {
   "cell_type": "code",
   "execution_count": null,
   "metadata": {},
   "outputs": [],
   "source": [
    "# 함수 활용\n",
    "# 갯수\n",
    "cnt = len(values)\n",
    "# 평균\n",
    "mean = sum(values) / cnt\n",
    "# \n",
    "sum_var = sum(pow(value - mean, 2) for value in values) / cnt\n",
    "\n",
    "std_dev = math.sqrt(sum_var)\n",
    "\n",
    "print(std_dev)"
   ]
  },
  {
   "cell_type": "markdown",
   "metadata": {},
   "source": [
    "> 한줄로도 가능할까요?"
   ]
  },
  {
   "cell_type": "code",
   "execution_count": null,
   "metadata": {},
   "outputs": [],
   "source": [
    "import statistics  # 모듈 사용\n",
    "values = [100, 75, 85, 90, 65, 95, 90, 60, 85, 50, 90, 80]"
   ]
  },
  {
   "cell_type": "code",
   "execution_count": null,
   "metadata": {},
   "outputs": [],
   "source": [
    "statistics.pstdev(values)"
   ]
  },
  {
   "cell_type": "markdown",
   "metadata": {},
   "source": [
    "# 함수(function)\n",
    "특정한 기능(function)을 하는 코드의 묶음\n",
    "\n",
    "## 함수를 쓰는 이유\n",
    "- 높은 가독성: 짧아짐\n",
    "- 재사용성: \n",
    "- 유지보수: 코드의 기능별 분화"
   ]
  },
  {
   "cell_type": "markdown",
   "metadata": {},
   "source": [
    "<center>\n",
    "    <img src=\"https://user-images.githubusercontent.com/18046097/61181741-2984fd80-a665-11e9-93b8-578c56689d0e.png\", alt=\"programming principle\">\n",
    "</center>"
   ]
  },
  {
   "cell_type": "markdown",
   "metadata": {},
   "source": [
    "## 함수의 선언과 호출\n",
    "\n",
    "* 함수 선언은 `def`로 시작하여 `:`으로 끝나고, 다음은 `4spaces 들여쓰기`로 코드 블록을 만든다.\n",
    "\n",
    "\n",
    "* 함수는 `매개변수(parameter)`를 넘겨줄 수도 있다.\n",
    "\n",
    "\n",
    "* 함수는 동작후에 `return`을 통해 결과값을 전달 할 수도 있다. (`return` 값이 없으면, `None`을 반환한다.)\n",
    "\n",
    "\n",
    "* 함수는 호출을 `func()` / `func(val1, val2)`와 같이 한다.\n",
    "\n",
    "---\n",
    "\n",
    "#### 활용법\n",
    "\n",
    "```python\n",
    "def <함수이름>(parameter1, parameter2):\n",
    "    <코드 블럭>\n",
    "    return value\n",
    "```"
   ]
  },
  {
   "cell_type": "markdown",
   "metadata": {},
   "source": [
    "### [연습] 세제곱 함수 \n",
    "> 입력 받은 수를 세제곱하여 반환(return)하는 함수 `cube()`을 작성해보세요.\n",
    "return이 있으니까 리턴 넣어서 코드 완성하기!\n",
    "\n",
    "---\n",
    "\n",
    "**[입력 예시]**\n",
    "\n",
    "```py\n",
    "cube(2)\n",
    "```\n",
    "\n",
    "**[출력 예시]**\n",
    "\n",
    "8"
   ]
  },
  {
   "cell_type": "code",
   "execution_count": null,
   "metadata": {},
   "outputs": [],
   "source": [
    "# 아래에 코드를 작성하세요.\n",
    "# 입력 받은 수 : Input이 하나 있구나!\n",
    "# 함수 이름은 cube이구나!"
   ]
  },
  {
   "cell_type": "code",
   "execution_count": 1,
   "metadata": {},
   "outputs": [],
   "source": [
    "def cube(n):\n",
    "    result = n ** 3\n",
    "    return result"
   ]
  },
  {
   "cell_type": "code",
   "execution_count": 2,
   "metadata": {
    "scrolled": true
   },
   "outputs": [
    {
     "data": {
      "text/plain": [
       "8"
      ]
     },
     "execution_count": 2,
     "metadata": {},
     "output_type": "execute_result"
    }
   ],
   "source": [
    "cube(2) # 함수 호출"
   ]
  },
  {
   "cell_type": "code",
   "execution_count": null,
   "metadata": {},
   "outputs": [],
   "source": [
    "# 아래 두 함수의 차이점은?"
   ]
  },
  {
   "cell_type": "code",
   "execution_count": 3,
   "metadata": {},
   "outputs": [],
   "source": [
    "def cube_return(n):\n",
    "    result = n ** 3\n",
    "    return result\n",
    "# print문이 없기 때문에 vscode에 돌리면 출력 안됌.\n",
    "# return의 이유는 함수의 내용 값을 저장하려고 , 즉, 변수에 저장하는 느낌쓰~"
   ]
  },
  {
   "cell_type": "code",
   "execution_count": 4,
   "metadata": {},
   "outputs": [],
   "source": [
    "def cube_print(n):\n",
    "    result = n ** 3\n",
    "    print(result)"
   ]
  },
  {
   "cell_type": "code",
   "execution_count": 5,
   "metadata": {},
   "outputs": [
    {
     "data": {
      "text/plain": [
       "8"
      ]
     },
     "execution_count": 5,
     "metadata": {},
     "output_type": "execute_result"
    }
   ],
   "source": [
    "cube_return(2)   # out[6]의 의미는 개발하기 편하도록.. 마지막 줄의 내용을 출력해주는 것, 즉 print와는 달라서 out이라고 표기된것"
   ]
  },
  {
   "cell_type": "code",
   "execution_count": 6,
   "metadata": {},
   "outputs": [
    {
     "data": {
      "text/plain": [
       "7"
      ]
     },
     "execution_count": 6,
     "metadata": {},
     "output_type": "execute_result"
    }
   ],
   "source": [
    "cube_return(2)\n",
    "2 + 5"
   ]
  },
  {
   "cell_type": "code",
   "execution_count": 7,
   "metadata": {
    "scrolled": true
   },
   "outputs": [
    {
     "name": "stdout",
     "output_type": "stream",
     "text": [
      "8\n"
     ]
    }
   ],
   "source": [
    "cube_print(2)"
   ]
  },
  {
   "cell_type": "code",
   "execution_count": 8,
   "metadata": {
    "scrolled": true
   },
   "outputs": [
    {
     "name": "stdout",
     "output_type": "stream",
     "text": [
      "8\n"
     ]
    },
    {
     "data": {
      "text/plain": [
       "7"
      ]
     },
     "execution_count": 8,
     "metadata": {},
     "output_type": "execute_result"
    }
   ],
   "source": [
    "cube_print(2)    # 이거는 print\n",
    "2 + 5            # 이거는 out으로 나와 .. 그냥 코드 결과값을 보여주는 것! 출력이 아니라 "
   ]
  },
  {
   "cell_type": "code",
   "execution_count": 9,
   "metadata": {},
   "outputs": [
    {
     "data": {
      "text/plain": [
       "'홍길동'"
      ]
     },
     "execution_count": 9,
     "metadata": {},
     "output_type": "execute_result"
    }
   ],
   "source": [
    "name = '홍길동'\n",
    "name"
   ]
  },
  {
   "cell_type": "code",
   "execution_count": 10,
   "metadata": {},
   "outputs": [],
   "source": [
    "# 함수 선언\n",
    "def my_sum(a,b):\n",
    "    return a+b"
   ]
  },
  {
   "cell_type": "code",
   "execution_count": 11,
   "metadata": {},
   "outputs": [
    {
     "name": "stdout",
     "output_type": "stream",
     "text": [
      "4\n"
     ]
    }
   ],
   "source": [
    "# 함수 활용\n",
    "number = my_sum(1,3)\n",
    "print(number)\n",
    "# 즉 리턴은 반환값을 후에 활용하고 싶을 때 쓰는것 , 변수에 저장 등등 "
   ]
  },
  {
   "cell_type": "code",
   "execution_count": 12,
   "metadata": {},
   "outputs": [
    {
     "name": "stdout",
     "output_type": "stream",
     "text": [
      "4\n",
      "None\n"
     ]
    }
   ],
   "source": [
    "# print 함수는 None을 반환!\n",
    "# print_number 변수에 None이 저장됨..\n",
    "print_number = print(number)   # 얘는 number가 위에서 리턴된 값임!\n",
    "print(print_number)   # 리턴값이 없으면 None을 반환함, print_number는 리턴값이 아니라서 그런 듯!"
   ]
  },
  {
   "cell_type": "markdown",
   "metadata": {},
   "source": [
    "### [실습] 사각형의 넓이를 구하는 함수\n",
    "> 밑변(width)과 높이(height)를 입력받아 사각형의 넓이와 둘레를 반환(return)하는 함수 `rectangle()`을 작성해보세요.\n",
    "\n",
    "---\n",
    "\n",
    "**[입력 예시]**\n",
    "\n",
    "```py\n",
    "rectangle(30, 20)\n",
    "```\n",
    "\n",
    "**[출력 예시]**\n",
    "\n",
    "(600, 100)"
   ]
  },
  {
   "cell_type": "code",
   "execution_count": null,
   "metadata": {},
   "outputs": [],
   "source": [
    "# 아래에 코드를 작성하세요."
   ]
  },
  {
   "cell_type": "code",
   "execution_count": null,
   "metadata": {},
   "outputs": [],
   "source": [
    "def rectangle(w,h):\n",
    "    return (w * h, (w + h) *2 )  # return을 이런식으로 할 수도 있구나!"
   ]
  },
  {
   "cell_type": "code",
   "execution_count": null,
   "metadata": {},
   "outputs": [],
   "source": [
    "print(rectangle(30, 20))\n",
    "print(rectangle(50, 70))"
   ]
  },
  {
   "cell_type": "markdown",
   "metadata": {},
   "source": [
    "<center>\n",
    "    <img src=\"https://user-images.githubusercontent.com/18046097/61181742-2984fd80-a665-11e9-9d5c-c90e8c64953e.png\", alt=\"function descrpition\">\n",
    "</center>"
   ]
  },
  {
   "cell_type": "code",
   "execution_count": null,
   "metadata": {},
   "outputs": [],
   "source": [
    "# 우리가 활용하는 print문도 파이썬에 지정된 함수입니다. \n",
    "# 아래에서 'hi'는 argument이고 출력을 하게 됩니다.\n",
    "print('hi')"
   ]
  },
  {
   "cell_type": "markdown",
   "metadata": {},
   "source": [
    "<center>\n",
    "    <img src=\"https://user-images.githubusercontent.com/18046097/61181739-2984fd80-a665-11e9-991b-f2f058397a69.png\", alt=\"built_in\">\n",
    "</center>\n",
    "\n",
    "[파이썬 문서](https://docs.python.org/ko/3/library/functions.html)"
   ]
  },
  {
   "cell_type": "code",
   "execution_count": null,
   "metadata": {},
   "outputs": [],
   "source": [
    "# 내장함수 목록을 직접 볼 수도 있습니다.\n",
    "dir(__builtins__)"
   ]
  },
  {
   "cell_type": "code",
   "execution_count": null,
   "metadata": {},
   "outputs": [],
   "source": [
    "# 편하게 써왔던 random.sample() 함수의 내부도 확인해 볼까요?\n",
    "# https://github.com/python/cpython/blob/master/Lib/random.py"
   ]
  },
  {
   "cell_type": "markdown",
   "metadata": {},
   "source": [
    "### [연습] 함수 만들기\n",
    "\n",
    "> 아래의 코드와 동일한 `my_max` 함수를 만들어주세요.\n",
    ">\n",
    "> 정수를 두개 받아서, 큰 값을 반환합니다. \n",
    "\n",
    "```python\n",
    "my_max(1, 5)\n",
    "```\n",
    "---\n",
    "```\n",
    "출력 예시)\n",
    "5\n",
    "```\n"
   ]
  },
  {
   "cell_type": "code",
   "execution_count": null,
   "metadata": {},
   "outputs": [],
   "source": [
    "# 내장함수 max()를 확인해봅시다."
   ]
  },
  {
   "cell_type": "code",
   "execution_count": 13,
   "metadata": {},
   "outputs": [
    {
     "data": {
      "text/plain": [
       "5"
      ]
     },
     "execution_count": 13,
     "metadata": {},
     "output_type": "execute_result"
    }
   ],
   "source": [
    "max(1, 5)"
   ]
  },
  {
   "cell_type": "code",
   "execution_count": null,
   "metadata": {},
   "outputs": [],
   "source": [
    "# 아래에 my_max 함수를 작성하고 호출하세요."
   ]
  },
  {
   "cell_type": "code",
   "execution_count": 14,
   "metadata": {},
   "outputs": [],
   "source": [
    "def my_max(a,b):\n",
    "    if a > b:\n",
    "        return a\n",
    "    else:\n",
    "        return b\n",
    "    \n",
    "# 흠 둘이 같을 때는?"
   ]
  },
  {
   "cell_type": "code",
   "execution_count": 15,
   "metadata": {},
   "outputs": [
    {
     "data": {
      "text/plain": [
       "5"
      ]
     },
     "execution_count": 15,
     "metadata": {},
     "output_type": "execute_result"
    }
   ],
   "source": [
    "# 해당 코드를 통해 올바른 결과가 나오는지 확인하세요.\n",
    "my_max(1, 5)"
   ]
  },
  {
   "cell_type": "markdown",
   "metadata": {},
   "source": [
    "# 함수의 Output"
   ]
  },
  {
   "cell_type": "markdown",
   "metadata": {},
   "source": [
    "## 함수의 `return`\n",
    "\n",
    "앞서 설명한 것과 마찬가지로 함수는 반환되는 값이 있으며, 이는 어떠한 종류(~~의 객체~~)라도 상관없습니다. \n",
    " \n",
    "단, **오직 한 개의 객체**만 반환됩니다.\n",
    "\n",
    "함수가 return 되거나 종료되면, 함수를 호출한 곳으로 돌아갑니다."
   ]
  },
  {
   "cell_type": "markdown",
   "metadata": {},
   "source": [
    "* 아무것도 return 하지 않으면 none이 반환된다."
   ]
  },
  {
   "cell_type": "code",
   "execution_count": 16,
   "metadata": {},
   "outputs": [],
   "source": [
    "def hello(name):\n",
    "    print(f'hello, {name}')"
   ]
  },
  {
   "cell_type": "code",
   "execution_count": 17,
   "metadata": {},
   "outputs": [
    {
     "name": "stdout",
     "output_type": "stream",
     "text": [
      "hello, 혜인\n"
     ]
    }
   ],
   "source": [
    "hello('혜인')"
   ]
  },
  {
   "cell_type": "code",
   "execution_count": 18,
   "metadata": {
    "scrolled": true
   },
   "outputs": [
    {
     "name": "stdout",
     "output_type": "stream",
     "text": [
      "hello, 혜인\n",
      "None <class 'NoneType'>\n"
     ]
    }
   ],
   "source": [
    "a = hello('혜인')  # 함수에서 None이 return 되고 a에 저장..\n",
    "# a 에는 그래서 none이 출력 \n",
    "print(a,type(a))    # return이 없으니까 none이 자동으로 반환됌. 이해완료!"
   ]
  },
  {
   "cell_type": "markdown",
   "metadata": {},
   "source": [
    "* 프린트, 리턴 다 쓰면 어떻게 되나요?"
   ]
  },
  {
   "cell_type": "code",
   "execution_count": 19,
   "metadata": {},
   "outputs": [],
   "source": [
    "def hello_name(name):\n",
    "    print(f'hello, {name}')\n",
    "    return name"
   ]
  },
  {
   "cell_type": "code",
   "execution_count": 20,
   "metadata": {
    "scrolled": true
   },
   "outputs": [
    {
     "name": "stdout",
     "output_type": "stream",
     "text": [
      "hello, 혜인\n",
      "혜인 <class 'str'>\n"
     ]
    }
   ],
   "source": [
    "a = hello_name('혜인')  # 프린트도 되고 리턴도 되는구나!\n",
    "print(a,type(a))"
   ]
  },
  {
   "cell_type": "markdown",
   "metadata": {},
   "source": [
    "* 여러개 반환되는데?"
   ]
  },
  {
   "cell_type": "code",
   "execution_count": 21,
   "metadata": {},
   "outputs": [],
   "source": [
    "def my_name(name):\n",
    "    return 'hello', name"
   ]
  },
  {
   "cell_type": "code",
   "execution_count": 22,
   "metadata": {},
   "outputs": [],
   "source": [
    "name = my_name('홍길동')   # name에 함수 리턴값이 들어가있는 것!"
   ]
  },
  {
   "cell_type": "code",
   "execution_count": 23,
   "metadata": {},
   "outputs": [
    {
     "name": "stdout",
     "output_type": "stream",
     "text": [
      "('hello', '홍길동')\n"
     ]
    }
   ],
   "source": [
    "print(name)"
   ]
  },
  {
   "cell_type": "code",
   "execution_count": 24,
   "metadata": {},
   "outputs": [
    {
     "name": "stdout",
     "output_type": "stream",
     "text": [
      "<class 'tuple'>\n"
     ]
    }
   ],
   "source": [
    "print(type(name))   # 사실은 튜플로 묶어서 하나로 보낸 것!!!"
   ]
  },
  {
   "cell_type": "markdown",
   "metadata": {},
   "source": [
    "* 오직 하나 반환\n",
    "* 만약, return이 없으면 => none을 반환\n",
    "* 만약, 여러개를 , 로 이어서 리턴하면 => tuple로 묶어버린다."
   ]
  },
  {
   "cell_type": "code",
   "execution_count": null,
   "metadata": {},
   "outputs": [],
   "source": [
    "# sort()와 sorted()의 차이"
   ]
  },
  {
   "cell_type": "code",
   "execution_count": 25,
   "metadata": {},
   "outputs": [
    {
     "name": "stdout",
     "output_type": "stream",
     "text": [
      "[5, 1, 3, 2]\n"
     ]
    }
   ],
   "source": [
    "a = [5,1,3,2]\n",
    "print(a)"
   ]
  },
  {
   "cell_type": "code",
   "execution_count": 26,
   "metadata": {},
   "outputs": [
    {
     "name": "stdout",
     "output_type": "stream",
     "text": [
      "[1, 2, 3, 5]\n",
      "None\n"
     ]
    }
   ],
   "source": [
    "a = [5,1,3,2]\n",
    "b = a.sort()    # 원본을 바꿔버리고, return이 값이 없음 ! b가 None\n",
    "# 원본 리스트\n",
    "print(a)\n",
    "# a.sort() 결과\n",
    "print(b)"
   ]
  },
  {
   "cell_type": "code",
   "execution_count": 27,
   "metadata": {},
   "outputs": [
    {
     "name": "stdout",
     "output_type": "stream",
     "text": [
      "[5, 1, 3, 2]\n",
      "[1, 2, 3, 5]\n"
     ]
    }
   ],
   "source": [
    "a = [5,1,3,2]\n",
    "b = sorted(a)    # 원본은 no touch, return으로 정렬 리스트\n",
    "print(a)\n",
    "print(b)"
   ]
  },
  {
   "cell_type": "code",
   "execution_count": 28,
   "metadata": {},
   "outputs": [
    {
     "name": "stdout",
     "output_type": "stream",
     "text": [
      "[1, 2, 3, 5]\n",
      "[1, 2, 3, 5]\n"
     ]
    }
   ],
   "source": [
    "# 따라서 이렇게 활용하면 된다!!!!!\n",
    "a = [5,1,3,2]\n",
    "a.sort()\n",
    "print(a)\n",
    "\n",
    "a = [5,1,3,2]\n",
    "a = sorted(a)\n",
    "print(a)"
   ]
  },
  {
   "cell_type": "markdown",
   "metadata": {},
   "source": [
    "### [연습] 함수를 정의하고 값을 반환해봅시다.\n",
    " \n",
    "> 리스트 두개를 받아 각각 더한 결과를 비교하여 값이 큰 리스트를 반환하는 함수를 만들어주세요.\n",
    "\n",
    "```python\n",
    "my_list_max([10, 3], [5, 9])\n",
    "```\n",
    "---\n",
    "```\n",
    "예시 출력)\n",
    "[5, 9]\n",
    "```\n"
   ]
  },
  {
   "cell_type": "code",
   "execution_count": null,
   "metadata": {},
   "outputs": [],
   "source": [
    "# 아래에 my_list_max 함수를 작성하고 호출하세요\n",
    "# 입력에서 리스트 길이가 다른 테스트케이스들이 주어질 수 있다는 것을 알기!"
   ]
  },
  {
   "cell_type": "code",
   "execution_count": 29,
   "metadata": {},
   "outputs": [],
   "source": [
    "def my_list_max(a,b):\n",
    "    # a.b리스트\n",
    "    # 더한 값 준비\n",
    "    sum_a = sum(a)\n",
    "    sum_b = sum(b)\n",
    "    result = []      # 비어있는 자료형을 미리 준비해야 하는 경우가 있음. 여기서는 특별한 의미 없음.\n",
    "    if sum_a > sum_b:\n",
    "        # a가 큰 상황\n",
    "        result = a\n",
    "    else:\n",
    "        # b가 큰 상황\n",
    "        result = b\n",
    "    return result\n"
   ]
  },
  {
   "cell_type": "code",
   "execution_count": 30,
   "metadata": {
    "scrolled": true
   },
   "outputs": [
    {
     "data": {
      "text/plain": [
       "[5, 9]"
      ]
     },
     "execution_count": 30,
     "metadata": {},
     "output_type": "execute_result"
    }
   ],
   "source": [
    "# 해당 코드를 통해 올바른 결과가 나오는지 확인하세요.\n",
    "my_list_max([10, 3], [5, 9])"
   ]
  },
  {
   "cell_type": "code",
   "execution_count": 31,
   "metadata": {},
   "outputs": [],
   "source": [
    "def my_list_max(a,b):\n",
    "    if sum(a) > sum(b):\n",
    "        return a\n",
    "    else:\n",
    "        return b"
   ]
  },
  {
   "cell_type": "code",
   "execution_count": 32,
   "metadata": {},
   "outputs": [
    {
     "data": {
      "text/plain": [
       "[5, 9]"
      ]
     },
     "execution_count": 32,
     "metadata": {},
     "output_type": "execute_result"
    }
   ],
   "source": [
    "my_list_max([10, 3], [5, 9])"
   ]
  },
  {
   "cell_type": "markdown",
   "metadata": {},
   "source": [
    "# 함수의 입력(Input)"
   ]
  },
  {
   "cell_type": "markdown",
   "metadata": {},
   "source": [
    "## 매개변수(parameter) & 인자(argument)\n",
    "\n",
    "### (1) 매개변수(parameter)_ 함수 정의\n",
    "\n",
    "```python\n",
    "def func(x):\n",
    "      return x + 2\n",
    "```\n",
    "\n",
    "* `x` 는 매개변수(parameter)\n",
    "* 입력을 받아 함수 내부에서 활용할 `변수`라고 생각하면 된다.\n",
    "* 함수의 정의 부분에서 볼 수 있다.\n",
    "\n",
    "\n",
    "### (2) 전달인자(argument)_ 함수 호출\n",
    "\n",
    "```python\n",
    "func(2)\n",
    "```\n",
    "\n",
    "* `2` 는 (전달)인자(argument)\n",
    "* 실제로 전달되는 `입력값`이라고 생각하면 된다.\n",
    "* 함수를 호출하는 부분에서 볼 수 있다.\n",
    "    \n",
    "> 주로 혼용해서 사용하지만 엄밀하게 따지면 둘은 다르게 구분되어 사용됩니다. 개념적 구분보다 함수가 작동하는 원리를 이해하는게 더 중요합니다."
   ]
  },
  {
   "cell_type": "markdown",
   "metadata": {},
   "source": [
    "## 함수의 인자\n",
    "\n",
    "함수는 입력값(input)으로 `인자(argument)`를 넘겨줄 수 있습니다."
   ]
  },
  {
   "cell_type": "markdown",
   "metadata": {},
   "source": [
    "### 위치 인자 (Positional Arguments)\n",
    "\n",
    "함수는 기본적으로 인자를 위치로 판단합니다.   \n",
    "즉, 순서대로 맵핑해서 쓴다! "
   ]
  },
  {
   "cell_type": "markdown",
   "metadata": {},
   "source": [
    "### [연습] 원기둥의 부피\n",
    "\n",
    "> 원기둥의 반지름(r)과 높이(h)를 받아서 부피를 return하는 함수 `cylinder()`를 작성하세요.\n",
    ">\n",
    "> *원기둥 부피 = 밑면의 넓이 * 높이*"
   ]
  },
  {
   "cell_type": "code",
   "execution_count": null,
   "metadata": {},
   "outputs": [],
   "source": [
    "def cylinder(r,h):\n",
    "    return r ** 2 * 3.14 * h"
   ]
  },
  {
   "cell_type": "code",
   "execution_count": null,
   "metadata": {},
   "outputs": [],
   "source": [
    "print(cylinder(5,2))\n",
    "print(cylinder(2,5)) # 순서를 바꾸면 다른 값이 나옵니다."
   ]
  },
  {
   "cell_type": "markdown",
   "metadata": {},
   "source": [
    "<center>\n",
    "    <img src=\"https://user-images.githubusercontent.com/18046097/61181743-2a1d9400-a665-11e9-8df2-e4856caf16e4.png\", alt=\"function example 02\">\n",
    "</center>"
   ]
  },
  {
   "cell_type": "markdown",
   "metadata": {},
   "source": [
    "### 기본 인자 값 (Default Argument Values)\n",
    "\n",
    "함수가 호출될 때, 인자를 지정하지 않아도 기본 값을 설정할 수 있습니다. \n",
    "\n",
    "---\n",
    "\n",
    "**활용법**\n",
    "```python\n",
    "def func(p1=v1):\n",
    "    return p1\n",
    "```"
   ]
  },
  {
   "cell_type": "markdown",
   "metadata": {},
   "source": [
    "### [연습] 기본 인자 값 활용\n",
    "\n",
    "> 이름을 받아서 다음과 같이 인사하는 함수 `greeting()`을 작성하세요. 이름이 길동이면, \"길동, 안녕?\" 이름이 없으면 \"익명, 안녕?\" 으로 출력하세요.\n",
    "=> return하라는 말이 없으므로 반환 넣지 않는다! 문제 잘보기"
   ]
  },
  {
   "cell_type": "code",
   "execution_count": null,
   "metadata": {},
   "outputs": [],
   "source": [
    "# 아래에 greeting 함수를 작성하세요."
   ]
  },
  {
   "cell_type": "code",
   "execution_count": 33,
   "metadata": {},
   "outputs": [],
   "source": [
    "def greeting(name):\n",
    "    print(f'{name}, 안녕?')"
   ]
  },
  {
   "cell_type": "code",
   "execution_count": 34,
   "metadata": {},
   "outputs": [
    {
     "name": "stdout",
     "output_type": "stream",
     "text": [
      "길동, 안녕?\n"
     ]
    }
   ],
   "source": [
    "greeting('길동')"
   ]
  },
  {
   "cell_type": "code",
   "execution_count": 35,
   "metadata": {
    "scrolled": true
   },
   "outputs": [
    {
     "ename": "TypeError",
     "evalue": "greeting() missing 1 required positional argument: 'name'",
     "output_type": "error",
     "traceback": [
      "\u001b[1;31m---------------------------------------------------------------------------\u001b[0m",
      "\u001b[1;31mTypeError\u001b[0m                                 Traceback (most recent call last)",
      "\u001b[1;32m<ipython-input-35-a2f6a3b2e420>\u001b[0m in \u001b[0;36m<module>\u001b[1;34m\u001b[0m\n\u001b[1;32m----> 1\u001b[1;33m \u001b[0mgreeting\u001b[0m\u001b[1;33m(\u001b[0m\u001b[1;33m)\u001b[0m    \u001b[1;31m# 오류가 나온다.\u001b[0m\u001b[1;33m\u001b[0m\u001b[1;33m\u001b[0m\u001b[0m\n\u001b[0m",
      "\u001b[1;31mTypeError\u001b[0m: greeting() missing 1 required positional argument: 'name'"
     ]
    }
   ],
   "source": [
    "greeting()    # 오류가 나온다."
   ]
  },
  {
   "cell_type": "markdown",
   "metadata": {},
   "source": [
    "##### 따라서 아래와 같이 하면 입력값이 없을 때 출력되는 것을 지정할 수 있다."
   ]
  },
  {
   "cell_type": "code",
   "execution_count": 36,
   "metadata": {},
   "outputs": [],
   "source": [
    "def greeting2(name='익명'):\n",
    "    print(f'{name}, 안녕?')"
   ]
  },
  {
   "cell_type": "code",
   "execution_count": 37,
   "metadata": {},
   "outputs": [
    {
     "name": "stdout",
     "output_type": "stream",
     "text": [
      "길동, 안녕?\n"
     ]
    }
   ],
   "source": [
    "greeting2('길동')"
   ]
  },
  {
   "cell_type": "code",
   "execution_count": 38,
   "metadata": {},
   "outputs": [
    {
     "name": "stdout",
     "output_type": "stream",
     "text": [
      "익명, 안녕?\n"
     ]
    }
   ],
   "source": [
    "greeting2()"
   ]
  },
  {
   "cell_type": "code",
   "execution_count": null,
   "metadata": {},
   "outputs": [],
   "source": [
    "# 즉 위치인자가 가장 먼저\n",
    "# 그러나 그 함수()이런식으로 할 때 안에꺼는 순서 관계없다"
   ]
  },
  {
   "cell_type": "markdown",
   "metadata": {},
   "source": [
    "* 기본 인자 값이 설정되어 있더라도 기존의 함수와 동일하게 호출 가능하다.\n",
    "\n",
    "\n",
    "<center>\n",
    "    <img src=\"https://user-images.githubusercontent.com/18046097/61181744-2a1d9400-a665-11e9-9095-6924ca11122e.png\">\n",
    "</center>"
   ]
  },
  {
   "cell_type": "markdown",
   "metadata": {},
   "source": [
    "* 기본 인자 값이 설정되어 있더라도 기존의 함수와 동일하게 호출 가능하다.\n",
    "\n",
    "\n",
    "<center>\n",
    "    <img src=\"https://user-images.githubusercontent.com/18046097/61181744-2a1d9400-a665-11e9-9095-6924ca11122e.png\">\n",
    "</center>"
   ]
  },
  {
   "cell_type": "code",
   "execution_count": null,
   "metadata": {},
   "outputs": [],
   "source": [
    "# 아래 세가지 예시를 보자."
   ]
  },
  {
   "cell_type": "code",
   "execution_count": 39,
   "metadata": {},
   "outputs": [
    {
     "data": {
      "text/plain": [
       "8"
      ]
     },
     "execution_count": 39,
     "metadata": {},
     "output_type": "execute_result"
    }
   ],
   "source": [
    "def my_sum(a,b):\n",
    "    return a + b\n",
    "my_sum(3,5)"
   ]
  },
  {
   "cell_type": "code",
   "execution_count": 40,
   "metadata": {},
   "outputs": [
    {
     "data": {
      "text/plain": [
       "8"
      ]
     },
     "execution_count": 40,
     "metadata": {},
     "output_type": "execute_result"
    }
   ],
   "source": [
    "def my_sum(a,b=0):\n",
    "    return a + b\n",
    "my_sum(3,5)"
   ]
  },
  {
   "cell_type": "code",
   "execution_count": 41,
   "metadata": {},
   "outputs": [
    {
     "data": {
      "text/plain": [
       "3"
      ]
     },
     "execution_count": 41,
     "metadata": {},
     "output_type": "execute_result"
    }
   ],
   "source": [
    "def my_sum(a,b=0):\n",
    "    return a + b\n",
    "my_sum(3)"
   ]
  },
  {
   "cell_type": "code",
   "execution_count": 42,
   "metadata": {},
   "outputs": [
    {
     "ename": "SyntaxError",
     "evalue": "non-default argument follows default argument (<ipython-input-42-ca122fa2d005>, line 1)",
     "output_type": "error",
     "traceback": [
      "\u001b[1;36m  File \u001b[1;32m\"<ipython-input-42-ca122fa2d005>\"\u001b[1;36m, line \u001b[1;32m1\u001b[0m\n\u001b[1;33m    def my_sum(a=0,b):    # 하지만 이거는 안됀다. 아래 예시 같이 보기\u001b[0m\n\u001b[1;37m               ^\u001b[0m\n\u001b[1;31mSyntaxError\u001b[0m\u001b[1;31m:\u001b[0m non-default argument follows default argument\n"
     ]
    }
   ],
   "source": [
    "def my_sum(a=0,b):    # 하지만 이거는 안됀다. 아래 예시 같이 보기\n",
    "    return a + b\n",
    "my_sum(5)"
   ]
  },
  {
   "cell_type": "markdown",
   "metadata": {},
   "source": [
    "* 호출시 인자가 없으면 기본 인자 값이 활용된다.\n",
    "\n",
    "\n",
    "<center>\n",
    "    <img src=\"https://user-images.githubusercontent.com/18046097/61181745-2a1d9400-a665-11e9-95ef-e50e463e1583.png\", alt=\"function example 03\">\n",
    "</center>"
   ]
  },
  {
   "cell_type": "markdown",
   "metadata": {},
   "source": [
    "**\\*주의\\* 단, 기본 인자값(Default Argument Value)을 가지는 인자 다음에 기본 값이 없는 인자를 사용할 수는 없습니다.**"
   ]
  },
  {
   "cell_type": "code",
   "execution_count": null,
   "metadata": {},
   "outputs": [],
   "source": [
    "# 오류를 확인해봅시다."
   ]
  },
  {
   "cell_type": "code",
   "execution_count": 43,
   "metadata": {
    "scrolled": true
   },
   "outputs": [
    {
     "ename": "SyntaxError",
     "evalue": "non-default argument follows default argument (<ipython-input-43-919e09a99541>, line 3)",
     "output_type": "error",
     "traceback": [
      "\u001b[1;36m  File \u001b[1;32m\"<ipython-input-43-919e09a99541>\"\u001b[1;36m, line \u001b[1;32m3\u001b[0m\n\u001b[1;33m    def greeting(name = '익명', age):\u001b[0m\n\u001b[1;37m                 ^\u001b[0m\n\u001b[1;31mSyntaxError\u001b[0m\u001b[1;31m:\u001b[0m non-default argument follows default argument\n"
     ]
    }
   ],
   "source": [
    "# SyntaxError: non-default argument follows default argument\n",
    "# 기본 인자 뒤에 기본이 아닌 인자가 따라왔어\n",
    "def greeting(name = '익명', age):\n",
    "    print(f'안녕? 난 {name}, {age}살이야.')"
   ]
  },
  {
   "cell_type": "code",
   "execution_count": null,
   "metadata": {},
   "outputs": [],
   "source": [
    "# 수정해 봅시다."
   ]
  },
  {
   "cell_type": "code",
   "execution_count": 44,
   "metadata": {},
   "outputs": [
    {
     "name": "stdout",
     "output_type": "stream",
     "text": [
      "안녕? 난 100, 익명살이야.\n",
      "안녕? 난 1000, 단군살이야.\n"
     ]
    }
   ],
   "source": [
    "def greeting(name, age='익명'):\n",
    "    print(f'안녕? 난 {name}, {age}살이야.')\n",
    "greeting(100)\n",
    "greeting(1000,'단군')"
   ]
  },
  {
   "cell_type": "markdown",
   "metadata": {},
   "source": [
    "### 키워드 인자 (Keyword Arguments)\n",
    "\n",
    "키워드 인자는 직접 변수의 이름으로 특정 인자를 전달할 수 있습니다."
   ]
  },
  {
   "cell_type": "markdown",
   "metadata": {},
   "source": [
    "#### 정리\n",
    "\n",
    "기본인자값을 가지는 인자 다음에 기본 값이 없는 인자는 올 수 없음.\n",
    "무조건 기본 인자값을 가지는 인자는 마지막에\n",
    "\n",
    "키워드인자는 함수호출시 사용, 직접 변수의 이름으로 특정 인자 전달 가능\n",
    "키워드 인자 다음에 위치 인자 불가 / 그냥 특정인자 전달하는거는 다음에 특정인자 없는거 못온다는 것 / \n"
   ]
  },
  {
   "cell_type": "code",
   "execution_count": 45,
   "metadata": {},
   "outputs": [
    {
     "ename": "SyntaxError",
     "evalue": "positional argument follows keyword argument (<ipython-input-45-dea11c2dd06d>, line 9)",
     "output_type": "error",
     "traceback": [
      "\u001b[1;36m  File \u001b[1;32m\"<ipython-input-45-dea11c2dd06d>\"\u001b[1;36m, line \u001b[1;32m9\u001b[0m\n\u001b[1;33m    greeting(age=24, '철수')\u001b[0m\n\u001b[1;37m                     ^\u001b[0m\n\u001b[1;31mSyntaxError\u001b[0m\u001b[1;31m:\u001b[0m positional argument follows keyword argument\n"
     ]
    }
   ],
   "source": [
    "# 정리\n",
    "def greeting(age, name = 'john'):\n",
    "    return f'{name}은 {age}살입니다.'\n",
    "#가능\n",
    "greeting(name = '철수', age = 24)  \n",
    "#가능\n",
    "greeting(24)\n",
    " #불가 #키워드 인자 다음에 위치 인자 불가\n",
    "greeting(age=24, '철수')  "
   ]
  },
  {
   "cell_type": "code",
   "execution_count": null,
   "metadata": {},
   "outputs": [],
   "source": [
    "# 키워드 인자 예시"
   ]
  },
  {
   "cell_type": "code",
   "execution_count": 46,
   "metadata": {},
   "outputs": [],
   "source": [
    "def greeting(age, name='익명'):\n",
    "    print(f'안녕? 난 {name}, {age}살이야.')"
   ]
  },
  {
   "cell_type": "code",
   "execution_count": 47,
   "metadata": {},
   "outputs": [
    {
     "name": "stdout",
     "output_type": "stream",
     "text": [
      "안녕? 난 길동, 1000살이야.\n"
     ]
    }
   ],
   "source": [
    "# 순서 바꾸기 가능하다\n",
    "greeting(name='길동',age = 1000)"
   ]
  },
  {
   "cell_type": "markdown",
   "metadata": {},
   "source": [
    "* **단 아래와 같이 `키워드 인자`를 활용한 다음에 `위치 인자`를 활용할 수는 없습니다.**"
   ]
  },
  {
   "cell_type": "code",
   "execution_count": 48,
   "metadata": {
    "scrolled": false
   },
   "outputs": [
    {
     "ename": "SyntaxError",
     "evalue": "positional argument follows keyword argument (<ipython-input-48-6d00ac186a2e>, line 3)",
     "output_type": "error",
     "traceback": [
      "\u001b[1;36m  File \u001b[1;32m\"<ipython-input-48-6d00ac186a2e>\"\u001b[1;36m, line \u001b[1;32m3\u001b[0m\n\u001b[1;33m    greeting(age = 3000, '곰')\u001b[0m\n\u001b[1;37m                         ^\u001b[0m\n\u001b[1;31mSyntaxError\u001b[0m\u001b[1;31m:\u001b[0m positional argument follows keyword argument\n"
     ]
    }
   ],
   "source": [
    "# SyntaxError: positional argument follows keyword argument\n",
    "# 위치인자가 키워드 인자 뒤에 옴 \n",
    "greeting(age = 3000, '곰')"
   ]
  },
  {
   "cell_type": "code",
   "execution_count": 49,
   "metadata": {},
   "outputs": [],
   "source": [
    "# 키워드 인자 예시\n",
    "def greeting(age, name = 'john'):\n",
    "    return f'{name}은 {age}살입니다.'"
   ]
  },
  {
   "cell_type": "code",
   "execution_count": 50,
   "metadata": {},
   "outputs": [
    {
     "data": {
      "text/plain": [
       "'철수은 24살입니다.'"
      ]
     },
     "execution_count": 50,
     "metadata": {},
     "output_type": "execute_result"
    }
   ],
   "source": [
    "greeting(name='철수', age=24)"
   ]
  },
  {
   "cell_type": "code",
   "execution_count": 51,
   "metadata": {},
   "outputs": [
    {
     "data": {
      "text/plain": [
       "'john은 24살입니다.'"
      ]
     },
     "execution_count": 51,
     "metadata": {},
     "output_type": "execute_result"
    }
   ],
   "source": [
    "greeting(24)"
   ]
  },
  {
   "cell_type": "code",
   "execution_count": 52,
   "metadata": {},
   "outputs": [
    {
     "ename": "SyntaxError",
     "evalue": "positional argument follows keyword argument (<ipython-input-52-5c73f17e0220>, line 1)",
     "output_type": "error",
     "traceback": [
      "\u001b[1;36m  File \u001b[1;32m\"<ipython-input-52-5c73f17e0220>\"\u001b[1;36m, line \u001b[1;32m1\u001b[0m\n\u001b[1;33m    greeting(age = 24, '철수')\u001b[0m\n\u001b[1;37m                       ^\u001b[0m\n\u001b[1;31mSyntaxError\u001b[0m\u001b[1;31m:\u001b[0m positional argument follows keyword argument\n"
     ]
    }
   ],
   "source": [
    "greeting(age = 24, '철수')   \n",
    "# 이 경우는 불가 # 키워드 인자 다음에 위치 인자 불가"
   ]
  },
  {
   "cell_type": "markdown",
   "metadata": {},
   "source": [
    "## 정해지지 않은 여러 개의 인자 처리\n"
   ]
  },
  {
   "cell_type": "markdown",
   "metadata": {},
   "source": [
    "우리가 주로 활용하는 `print()` 함수는 [파이썬 표준 라이브러리의 내장함수](https://docs.python.org/ko/3.6/library/functions.html) 중 하나이며, 다음과 같이 구성되어있습니다.\n",
    "> <center>\n",
    "    <img src=\"https://user-images.githubusercontent.com/18046097/61181751-2b4ec100-a665-11e9-9a7c-a19a8c445cfa.png\", alt=\"print\">\n",
    "</center>"
   ]
  },
  {
   "cell_type": "code",
   "execution_count": 53,
   "metadata": {},
   "outputs": [
    {
     "name": "stdout",
     "output_type": "stream",
     "text": [
      "hi hello guten tag\n"
     ]
    }
   ],
   "source": [
    "print('hi','hello' ,'guten tag')"
   ]
  },
  {
   "cell_type": "code",
   "execution_count": 54,
   "metadata": {
    "scrolled": true
   },
   "outputs": [
    {
     "name": "stdout",
     "output_type": "stream",
     "text": [
      "xx\n",
      "vv_bb vv\n",
      "xd/ef/dfsf끝!"
     ]
    }
   ],
   "source": [
    "print('xx')\n",
    "print('vv', end = '_')\n",
    "print('bb','vv')\n",
    "print('xd','ef','dfsf',sep='/',end='끝!')"
   ]
  },
  {
   "cell_type": "code",
   "execution_count": 55,
   "metadata": {},
   "outputs": [
    {
     "name": "stdout",
     "output_type": "stream",
     "text": [
      "xx,ee,43\n"
     ]
    }
   ],
   "source": [
    "print('xx','ee','43',sep =',')"
   ]
  },
  {
   "cell_type": "markdown",
   "metadata": {},
   "source": [
    "### 가변(임의) 인자 리스트(Arbitrary Argument Lists)\n",
    "\n",
    "앞서 설명한 `print()`처럼 개수가 정해지지 않은 임의의 인자를 받기 위해서는 가변 인자 리스트`*args`를 활용합니다. \n",
    "\n",
    "가변 인자 리스트는 `tuple` 형태로 처리가 되며, 매개변수에 `*`로 표현합니다. \n",
    "\n",
    "---\n",
    "\n",
    "**활용법**\n",
    "\n",
    "```python\n",
    "def func(a, b, *args):\n",
    "```\n",
    "> `*args` : 임의의 개수의 위치인자를 받음을 의미\n",
    "> \n",
    "> 보통, 이 가변 인자 리스트는 매개변수 목록의 마지막에 옵니다."
   ]
  },
  {
   "cell_type": "code",
   "execution_count": 58,
   "metadata": {},
   "outputs": [
    {
     "name": "stdout",
     "output_type": "stream",
     "text": [
      "태영\n",
      "희은\n",
      "존경하는 교수님 교수\n"
     ]
    }
   ],
   "source": [
    "# 기본값\n",
    "# 가변인자 f(3,5)   : 투플로 관리\n",
    "# 가변 키워드 인자 f(a=3, b=5)  : 키워드 밸류 이렇게 관리\n",
    "\n",
    "# 가변인자\n",
    "# def func(a, b, *args):\n",
    "# # *args는 임이의 개수의 위치 인자, 매개변수 목록의 가장 마지막\n",
    "# def students(*args,prof):\n",
    "#     for student in args:\n",
    "#         print(student)\n",
    "#     print(f'존경하는 교수님 {prof}')\n",
    "\n",
    "# students('희은','태영',prof = '탁희')   # 가능\n",
    "\n",
    "def students(prof,*args):\n",
    "    for student in args:\n",
    "        print(student)\n",
    "    print(f'존경하는 교수님 {prof}')\n",
    "\n",
    "students('교수','태영','희은')   # 가능\n",
    "\n",
    "# # 가변 키워드 인자\n",
    "# def func(**kwargs):      # **kwargs   :  임의의 개수의 키워드 인자를 받음을 의미\n"
   ]
  },
  {
   "cell_type": "code",
   "execution_count": null,
   "metadata": {},
   "outputs": [],
   "source": [
    "# 가변 인자 예시\n",
    "# print문은 *obejcts를 통해 임의의 숫자의 인자를 모두 처리합니다."
   ]
  },
  {
   "cell_type": "code",
   "execution_count": 59,
   "metadata": {},
   "outputs": [
    {
     "name": "stdout",
     "output_type": "stream",
     "text": [
      "hi hello\n"
     ]
    }
   ],
   "source": [
    "print('hi','hello')"
   ]
  },
  {
   "cell_type": "code",
   "execution_count": null,
   "metadata": {},
   "outputs": [],
   "source": [
    "# args는 tuple입니다."
   ]
  },
  {
   "cell_type": "code",
   "execution_count": 60,
   "metadata": {
    "ExecuteTime": {
     "end_time": "2021-01-15T07:38:26.599448Z",
     "start_time": "2021-01-15T07:38:26.588437Z"
    }
   },
   "outputs": [],
   "source": [
    "def students(*args):   # 몇 개를 받을지 모를 때는 별을 붙여서 해주면 된다.\n",
    "    print(args)\n",
    "    print(type(args))"
   ]
  },
  {
   "cell_type": "code",
   "execution_count": 61,
   "metadata": {},
   "outputs": [
    {
     "name": "stdout",
     "output_type": "stream",
     "text": [
      "('희은', '대영', '태성')\n",
      "<class 'tuple'>\n"
     ]
    }
   ],
   "source": [
    "students('희은','대영','태성')    # 여러개 묶어서 보내면 튜플로 묶어서 리턴"
   ]
  },
  {
   "cell_type": "code",
   "execution_count": 62,
   "metadata": {},
   "outputs": [],
   "source": [
    "# 전달받은 모든 학생을 출력하고 싶다..\n",
    "def students(*args):\n",
    "    for student in args:\n",
    "        print(student)"
   ]
  },
  {
   "cell_type": "code",
   "execution_count": 63,
   "metadata": {
    "scrolled": true
   },
   "outputs": [
    {
     "name": "stdout",
     "output_type": "stream",
     "text": [
      "희은\n",
      "대영\n",
      "태성\n",
      "---\n",
      "희은\n",
      "대영\n",
      "태성\n",
      "상진\n",
      "국현\n"
     ]
    }
   ],
   "source": [
    "students('희은','대영','태성')\n",
    "print('---')\n",
    "students('희은','대영','태성','상진','국현')"
   ]
  },
  {
   "cell_type": "code",
   "execution_count": 64,
   "metadata": {},
   "outputs": [],
   "source": [
    "def students(*args,prof):\n",
    "    for student in args:\n",
    "        print(student)\n",
    "    print(f'존경하는 교수님 {prof}')"
   ]
  },
  {
   "cell_type": "code",
   "execution_count": 65,
   "metadata": {},
   "outputs": [
    {
     "ename": "TypeError",
     "evalue": "students() missing 1 required keyword-only argument: 'prof'",
     "output_type": "error",
     "traceback": [
      "\u001b[1;31m---------------------------------------------------------------------------\u001b[0m",
      "\u001b[1;31mTypeError\u001b[0m                                 Traceback (most recent call last)",
      "\u001b[1;32m<ipython-input-65-64558be45a0d>\u001b[0m in \u001b[0;36m<module>\u001b[1;34m\u001b[0m\n\u001b[0;32m      1\u001b[0m \u001b[1;31m# 마지막이 prof...?? 자동으로 되지 않는다!\u001b[0m\u001b[1;33m\u001b[0m\u001b[1;33m\u001b[0m\u001b[1;33m\u001b[0m\u001b[0m\n\u001b[1;32m----> 2\u001b[1;33m \u001b[0mstudents\u001b[0m\u001b[1;33m(\u001b[0m\u001b[1;34m'희은'\u001b[0m\u001b[1;33m,\u001b[0m\u001b[1;34m'태영'\u001b[0m\u001b[1;33m,\u001b[0m\u001b[1;34m'탁희'\u001b[0m\u001b[1;33m)\u001b[0m\u001b[1;33m\u001b[0m\u001b[1;33m\u001b[0m\u001b[0m\n\u001b[0m",
      "\u001b[1;31mTypeError\u001b[0m: students() missing 1 required keyword-only argument: 'prof'"
     ]
    }
   ],
   "source": [
    "# 마지막이 prof...?? 자동으로 되지 않는다!\n",
    "students('희은','태영','탁희')"
   ]
  },
  {
   "cell_type": "code",
   "execution_count": 66,
   "metadata": {},
   "outputs": [
    {
     "name": "stdout",
     "output_type": "stream",
     "text": [
      "희은\n",
      "태영\n",
      "존경하는 교수님 탁희\n"
     ]
    }
   ],
   "source": [
    "# 가변 이후의 변수는 직접 키워드 인자로 활용한다!\n",
    "students('희은','태영',prof = '탁희')"
   ]
  },
  {
   "cell_type": "code",
   "execution_count": 68,
   "metadata": {},
   "outputs": [],
   "source": [
    "def students(prof,*args):\n",
    "    for student in args:\n",
    "        print(student)\n",
    "    print(f'존경하는 교수님 {prof}')"
   ]
  },
  {
   "cell_type": "code",
   "execution_count": 69,
   "metadata": {},
   "outputs": [
    {
     "name": "stdout",
     "output_type": "stream",
     "text": [
      "태영\n",
      "희은\n",
      "존경하는 교수님 교수\n"
     ]
    }
   ],
   "source": [
    "students('교수','태영','희은')   # 앞에 하나는 확실하니까 가능하다!"
   ]
  },
  {
   "cell_type": "markdown",
   "metadata": {},
   "source": [
    "### [연습] 가변 인자 리스트를 사용해봅시다.\n",
    "\n",
    "> 정수를 여러 개 받아서 가장 큰 값을 반환(return)하는 함수 `my_max()`를 작성하세요.\n",
    "\n",
    "```python\n",
    "my_max(10, 20, 30, 50)\n",
    "```\n",
    "---\n",
    "```\n",
    "예시출력)\n",
    "50\n",
    "```"
   ]
  },
  {
   "cell_type": "code",
   "execution_count": null,
   "metadata": {},
   "outputs": [],
   "source": [
    "max(1, 2, 3, 4)\n",
    "# 아래에 코드를 작성하세요."
   ]
  },
  {
   "cell_type": "code",
   "execution_count": 70,
   "metadata": {},
   "outputs": [],
   "source": [
    "def my_max(*args):\n",
    "    result = 0\n",
    "    for idx,val in enumerate(args):\n",
    "        if idx == 0:\n",
    "            result = val\n",
    "        else:\n",
    "            if val > result:\n",
    "                result = val\n",
    "    return result"
   ]
  },
  {
   "cell_type": "code",
   "execution_count": 71,
   "metadata": {},
   "outputs": [
    {
     "data": {
      "text/plain": [
       "-1"
      ]
     },
     "execution_count": 71,
     "metadata": {},
     "output_type": "execute_result"
    }
   ],
   "source": [
    "# 해당 코드를 통해 올바른 결과가 나오는지 확인하세요.\n",
    "my_max(-1, -2, -3, -4)"
   ]
  },
  {
   "cell_type": "markdown",
   "metadata": {},
   "source": [
    "### 가변(임의) 키워드 인자(Arbitrary Keyword Arguments)\n",
    "\n",
    "정해지지 않은 키워드 인자들은 **`dict`** 형태로 처리가 되며, `**`로 표현합니다. \n",
    "\n",
    "보통 `kwagrs`라는 이름을 사용하며, `**kwargs`를 통해 인자를 받아 처리할 수 있습니다.\n",
    "\n",
    "---\n",
    "\n",
    "**활용법**\n",
    "\n",
    "```python\n",
    "def func(**kwargs):\n",
    "```\n",
    "> `**kwargs` : 임의의 개수의 키워드 인자를 받음을 의미"
   ]
  },
  {
   "cell_type": "markdown",
   "metadata": {},
   "source": [
    "우리가 dictionary를 만들 때 사용할 수 있는 `dict()` 함수는 [파이썬 표준 라이브러리의 내장함수](https://docs.python.org/ko/3.6/library/functions.html) 중 하나이며, 다음과 같이 구성되어 있습니다.\n",
    "> <center>\n",
    "    <img src=\"https://user-images.githubusercontent.com/18046097/61181740-2984fd80-a665-11e9-94cf-7f5ab41873b1.png\", alt=\"dictionary\">\n",
    "</center>"
   ]
  },
  {
   "cell_type": "code",
   "execution_count": null,
   "metadata": {},
   "outputs": [],
   "source": [
    "# 딕셔너리 생성 함수 예시(가변 키워드 인자)"
   ]
  },
  {
   "cell_type": "code",
   "execution_count": 72,
   "metadata": {},
   "outputs": [
    {
     "data": {
      "text/plain": [
       "{'name': '홍길동', 'age': '1000'}"
      ]
     },
     "execution_count": 72,
     "metadata": {},
     "output_type": "execute_result"
    }
   ],
   "source": [
    "dict(name = '홍길동', age = '1000')"
   ]
  },
  {
   "cell_type": "code",
   "execution_count": 73,
   "metadata": {},
   "outputs": [
    {
     "ename": "SyntaxError",
     "evalue": "expression cannot contain assignment, perhaps you meant \"==\"? (<ipython-input-73-9701182766e6>, line 3)",
     "output_type": "error",
     "traceback": [
      "\u001b[1;36m  File \u001b[1;32m\"<ipython-input-73-9701182766e6>\"\u001b[1;36m, line \u001b[1;32m3\u001b[0m\n\u001b[1;33m    dict(1='1',2='2')   # 불가\u001b[0m\n\u001b[1;37m         ^\u001b[0m\n\u001b[1;31mSyntaxError\u001b[0m\u001b[1;31m:\u001b[0m expression cannot contain assignment, perhaps you meant \"==\"?\n"
     ]
    }
   ],
   "source": [
    "# 주의사항\n",
    "# 식별자는 숫자만으로는 이루어질 수가 없다.(키워드인자로 넘기면 함수 안에서 식별자로 쓰이기 때문)\n",
    "dict(1='1',2='2')   # 불가"
   ]
  },
  {
   "cell_type": "code",
   "execution_count": 74,
   "metadata": {},
   "outputs": [
    {
     "data": {
      "text/plain": [
       "{1: 1, 2: 1}"
      ]
     },
     "execution_count": 74,
     "metadata": {},
     "output_type": "execute_result"
    }
   ],
   "source": [
    "# 위의 경우 다음과 같이 사용해야 한다.\n",
    "dict(((1,1),(2,1)))"
   ]
  },
  {
   "cell_type": "code",
   "execution_count": 75,
   "metadata": {},
   "outputs": [
    {
     "name": "stdout",
     "output_type": "stream",
     "text": [
      "{'한국어': '안녕', '영어': 'hi', '독일어': 'Guten Tag'}\n",
      "<class 'dict'>\n"
     ]
    },
    {
     "data": {
      "text/plain": [
       "{'한국어': '안녕', '영어': 'hi', '독일어': 'Guten Tag'}"
      ]
     },
     "execution_count": 75,
     "metadata": {},
     "output_type": "execute_result"
    }
   ],
   "source": [
    "# 아래의 코드를 실행시켜 내부 구조를 살펴봅시다.\n",
    "def my_dict(**kwargs):\n",
    "    print(kwargs)\n",
    "    print(type(kwargs))\n",
    "    return kwargs\n",
    "\n",
    "my_dict(한국어='안녕', 영어='hi', 독일어='Guten Tag')"
   ]
  },
  {
   "cell_type": "code",
   "execution_count": 76,
   "metadata": {},
   "outputs": [
    {
     "ename": "TypeError",
     "evalue": "my_dict() takes 0 positional arguments but 2 were given",
     "output_type": "error",
     "traceback": [
      "\u001b[1;31m---------------------------------------------------------------------------\u001b[0m",
      "\u001b[1;31mTypeError\u001b[0m                                 Traceback (most recent call last)",
      "\u001b[1;32m<ipython-input-76-be2d22d28d61>\u001b[0m in \u001b[0;36m<module>\u001b[1;34m\u001b[0m\n\u001b[1;32m----> 1\u001b[1;33m \u001b[0mmy_dict\u001b[0m\u001b[1;33m(\u001b[0m\u001b[1;34m'안녕'\u001b[0m\u001b[1;33m,\u001b[0m\u001b[1;34m'hi'\u001b[0m\u001b[1;33m)\u001b[0m    \u001b[1;31m# 불가\u001b[0m\u001b[1;33m\u001b[0m\u001b[1;33m\u001b[0m\u001b[0m\n\u001b[0m",
      "\u001b[1;31mTypeError\u001b[0m: my_dict() takes 0 positional arguments but 2 were given"
     ]
    }
   ],
   "source": [
    "my_dict('안녕','hi')    # 불가"
   ]
  },
  {
   "cell_type": "code",
   "execution_count": null,
   "metadata": {},
   "outputs": [],
   "source": []
  },
  {
   "cell_type": "markdown",
   "metadata": {},
   "source": [
    "### [실습] URL 생성기\n",
    "\n",
    "> `my_url()` 함수를 만들어 완성된 URL을 반환하는 함수를 작성하세요.\n",
    ">\n",
    ">\n",
    "\n",
    "```python\n",
    "my_url(sidoname='서울', key='asdf')\n",
    "```\n",
    "\n",
    "---\n",
    "\n",
    "```\n",
    "예시 출력)\n",
    "https://api.go.kr?sidoname=서울&key=asdf&\n",
    "```"
   ]
  },
  {
   "cell_type": "code",
   "execution_count": null,
   "metadata": {},
   "outputs": [],
   "source": [
    "# 입력받은 가변 키워드 인자를 활용하여 'https://api.go.kr?'를 BASE_URL로한 URL을 생성하시오."
   ]
  },
  {
   "cell_type": "code",
   "execution_count": 77,
   "metadata": {
    "ExecuteTime": {
     "end_time": "2021-01-15T07:33:07.945581Z",
     "start_time": "2021-01-15T07:33:07.931569Z"
    }
   },
   "outputs": [],
   "source": [
    "def my_url(**kwargs):\n",
    "    url = 'https://api.go.kr?'\n",
    "    # kwargs : dictionary\n",
    "    # kwargs.items() : dict_items([('sidoname', '서울'), ('key', 'asdf')])\n",
    "    print(kwargs.items())\n",
    "    for name, value in kwargs.items():\n",
    "        url += f'{name}={value}&'\n",
    "    return url"
   ]
  },
  {
   "cell_type": "code",
   "execution_count": 78,
   "metadata": {},
   "outputs": [
    {
     "name": "stdout",
     "output_type": "stream",
     "text": [
      "dict_items([('sidoname', '서울'), ('key', 'asdf')])\n"
     ]
    },
    {
     "data": {
      "text/plain": [
       "'https://api.go.kr?sidoname=서울&key=asdf&'"
      ]
     },
     "execution_count": 78,
     "metadata": {},
     "output_type": "execute_result"
    }
   ],
   "source": [
    "my_url(sidoname='서울', key='asdf')"
   ]
  },
  {
   "cell_type": "code",
   "execution_count": 79,
   "metadata": {},
   "outputs": [
    {
     "data": {
      "text/plain": [
       "{'a': 'apple', 'b': 'banana'}"
      ]
     },
     "execution_count": 79,
     "metadata": {},
     "output_type": "execute_result"
    }
   ],
   "source": [
    "# 함수 정의는 아마도.. **kwargs\n",
    "dict(a='apple', b='banana')"
   ]
  },
  {
   "cell_type": "code",
   "execution_count": 80,
   "metadata": {},
   "outputs": [
    {
     "name": "stdout",
     "output_type": "stream",
     "text": [
      "안녕 하세요\n"
     ]
    }
   ],
   "source": [
    "# 함수 정의는 아마도.. *objects\n",
    "print('안녕','하세요')"
   ]
  },
  {
   "cell_type": "code",
   "execution_count": 81,
   "metadata": {},
   "outputs": [],
   "source": [
    "def my_sum(a,b):\n",
    "    return a + b"
   ]
  },
  {
   "cell_type": "code",
   "execution_count": 82,
   "metadata": {},
   "outputs": [
    {
     "data": {
      "text/plain": [
       "4"
      ]
     },
     "execution_count": 82,
     "metadata": {},
     "output_type": "execute_result"
    }
   ],
   "source": [
    "my_sum(1,3)"
   ]
  },
  {
   "cell_type": "code",
   "execution_count": 83,
   "metadata": {},
   "outputs": [],
   "source": [
    "def students(*args):\n",
    "    print(args)"
   ]
  },
  {
   "cell_type": "code",
   "execution_count": 84,
   "metadata": {},
   "outputs": [
    {
     "name": "stdout",
     "output_type": "stream",
     "text": [
      "('대영', '태현')\n"
     ]
    }
   ],
   "source": [
    "students('대영','태현')"
   ]
  },
  {
   "cell_type": "code",
   "execution_count": 85,
   "metadata": {},
   "outputs": [],
   "source": [
    "def students(*student_list):\n",
    "    print(student_list)"
   ]
  },
  {
   "cell_type": "code",
   "execution_count": 86,
   "metadata": {},
   "outputs": [
    {
     "name": "stdout",
     "output_type": "stream",
     "text": [
      "('대영', '태현')\n"
     ]
    }
   ],
   "source": [
    "students('대영', '태현')"
   ]
  }
 ],
 "metadata": {
  "kernelspec": {
   "display_name": "Python 3",
   "language": "python",
   "name": "python3"
  },
  "language_info": {
   "codemirror_mode": {
    "name": "ipython",
    "version": 3
   },
   "file_extension": ".py",
   "mimetype": "text/x-python",
   "name": "python",
   "nbconvert_exporter": "python",
   "pygments_lexer": "ipython3",
   "version": "3.8.7"
  },
  "toc": {
   "base_numbering": 1,
   "nav_menu": {},
   "number_sections": true,
   "sideBar": true,
   "skip_h1_title": false,
   "title_cell": "Table of Contents",
   "title_sidebar": "Contents",
   "toc_cell": false,
   "toc_position": {},
   "toc_section_display": true,
   "toc_window_display": false
  }
 },
 "nbformat": 4,
 "nbformat_minor": 2
}
